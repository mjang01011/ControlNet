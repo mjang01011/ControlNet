{
  "cells": [
    {
      "cell_type": "code",
      "execution_count": null,
      "metadata": {
        "colab": {
          "base_uri": "https://localhost:8080/"
        },
        "id": "WIvumkQE92PT",
        "outputId": "d0b333c6-edcb-448f-93df-284a1ceec9d8"
      },
      "outputs": [
        {
          "name": "stdout",
          "output_type": "stream",
          "text": [
            "Processing 00qdDqodX9U at row 4200...\n"
          ]
        },
        {
          "name": "stderr",
          "output_type": "stream",
          "text": [
            "ERROR: [youtube] 00qdDqodX9U: Sign in to confirm you’re not a bot. Use --cookies-from-browser or --cookies for the authentication. See  https://github.com/yt-dlp/yt-dlp/wiki/FAQ#how-do-i-pass-cookies-to-yt-dlp  for how to manually pass cookies. Also see  https://github.com/yt-dlp/yt-dlp/wiki/Extractors#exporting-youtube-cookies  for tips on effectively exporting YouTube cookies\n"
          ]
        },
        {
          "name": "stdout",
          "output_type": "stream",
          "text": [
            "Error processing row 4200: ERROR: [youtube] 00qdDqodX9U: Sign in to confirm you’re not a bot. Use --cookies-from-browser or --cookies for the authentication. See  https://github.com/yt-dlp/yt-dlp/wiki/FAQ#how-do-i-pass-cookies-to-yt-dlp  for how to manually pass cookies. Also see  https://github.com/yt-dlp/yt-dlp/wiki/Extractors#exporting-youtube-cookies  for tips on effectively exporting YouTube cookies\n",
            "Processing 00tm1g6HAg0 at row 4201...\n",
            "{'video_found': True, 'audio_found': True, 'metadata': {'major_brand': 'mp42', 'minor_version': '0', 'compatible_brands': 'isommp42', 'creation_time': '2024-03-09T02:56:10.000000Z'}, 'inputs': [{'streams': [{'input_number': 0, 'stream_number': 0, 'stream_type': 'video', 'language': None, 'default': True, 'size': [640, 360], 'bitrate': 554, 'fps': 29.97002997002997, 'codec_name': 'h264', 'profile': '(Main)', 'metadata': {'Metadata': '', 'creation_time': '2024-03-09T02:56:10.000000Z', 'handler_name': 'ISO Media file produced by Google Inc. Created on: 03/08/2024.', 'vendor_id': '[0][0][0][0]'}}, {'input_number': 0, 'stream_number': 1, 'stream_type': 'audio', 'language': 'eng', 'default': True, 'fps': 44100, 'bitrate': 128, 'metadata': {'Metadata': '', 'creation_time': '2024-03-09T02:56:10.000000Z', 'handler_name': 'ISO Media file produced by Google Inc. Created on: 03/08/2024.', 'vendor_id': '[0][0][0][0]'}}], 'input_number': 0}], 'duration': 301.05, 'bitrate': 686, 'start': 0.0, 'default_video_input_number': 0, 'default_video_stream_number': 0, 'video_codec_name': 'h264', 'video_profile': '(Main)', 'video_size': [640, 360], 'video_bitrate': 554, 'video_fps': 29.97002997002997, 'default_audio_input_number': 0, 'default_audio_stream_number': 1, 'audio_fps': 44100, 'audio_bitrate': 128, 'video_duration': 301.05, 'video_n_frames': 9022}\n",
            "/hpc/home/jj277/.local/lib/python3.9/site-packages/imageio_ffmpeg/binaries/ffmpeg-linux-x86_64-v7.0.2 -i ./dataset/videos/00tm1g6HAg0_full.mp4 -loglevel error -f image2pipe -vf scale=640:360 -sws_flags bicubic -pix_fmt rgb24 -vcodec rawvideo -\n",
            "{'video_found': True, 'audio_found': True, 'metadata': {'major_brand': 'mp42', 'minor_version': '0', 'compatible_brands': 'isommp42', 'creation_time': '2024-03-09T02:56:10.000000Z'}, 'inputs': [{'streams': [{'input_number': 0, 'stream_number': 0, 'stream_type': 'video', 'language': None, 'default': True, 'size': [640, 360], 'bitrate': 554, 'fps': 29.97002997002997, 'codec_name': 'h264', 'profile': '(Main)', 'metadata': {'Metadata': '', 'creation_time': '2024-03-09T02:56:10.000000Z', 'handler_name': 'ISO Media file produced by Google Inc. Created on: 03/08/2024.', 'vendor_id': '[0][0][0][0]'}}, {'input_number': 0, 'stream_number': 1, 'stream_type': 'audio', 'language': 'eng', 'default': True, 'fps': 44100, 'bitrate': 128, 'metadata': {'Metadata': '', 'creation_time': '2024-03-09T02:56:10.000000Z', 'handler_name': 'ISO Media file produced by Google Inc. Created on: 03/08/2024.', 'vendor_id': '[0][0][0][0]'}}], 'input_number': 0}], 'duration': 301.05, 'bitrate': 686, 'start': 0.0, 'default_video_input_number': 0, 'default_video_stream_number': 0, 'video_codec_name': 'h264', 'video_profile': '(Main)', 'video_size': [640, 360], 'video_bitrate': 554, 'video_fps': 29.97002997002997, 'default_audio_input_number': 0, 'default_audio_stream_number': 1, 'audio_fps': 44100, 'audio_bitrate': 128, 'video_duration': 301.05, 'video_n_frames': 9022}\n",
            "/hpc/home/jj277/.local/lib/python3.9/site-packages/imageio_ffmpeg/binaries/ffmpeg-linux-x86_64-v7.0.2 -ss 50.000000 -i ./dataset/videos/00tm1g6HAg0_full.mp4 -ss 1.000000 -loglevel error -f image2pipe -vf scale=640:360 -sws_flags bicubic -pix_fmt rgb24 -vcodec rawvideo -\n",
            "MoviePy - Building video ./dataset/videos/00tm1g6HAg0.mp4.\n",
            "MoviePy - Writing audio in 00tm1g6HAg0TEMP_MPY_wvf_snd.mp4\n"
          ]
        },
        {
          "name": "stderr",
          "output_type": "stream",
          "text": [
            "                                                                   \r"
          ]
        },
        {
          "name": "stdout",
          "output_type": "stream",
          "text": [
            "MoviePy - Done.\n",
            "MoviePy - Writing video ./dataset/videos/00tm1g6HAg0.mp4\n",
            "\n"
          ]
        },
        {
          "name": "stderr",
          "output_type": "stream",
          "text": [
            "                                                                        \r"
          ]
        },
        {
          "name": "stdout",
          "output_type": "stream",
          "text": [
            "MoviePy - Done !\n",
            "MoviePy - video ready ./dataset/videos/00tm1g6HAg0.mp4\n"
          ]
        },
        {
          "name": "stderr",
          "output_type": "stream",
          "text": [
            "/tmp/ipykernel_1412278/31342150.py:57: UserWarning: PySoundFile failed. Trying audioread instead.\n",
            "  y, _ = librosa.load(video_path, sr=sr)\n"
          ]
        },
        {
          "name": "stdout",
          "output_type": "stream",
          "text": [
            "Done: 00tm1g6HAg0\n",
            "Processing 00tm1g6HAg0 at row 4202...\n"
          ]
        },
        {
          "name": "stderr",
          "output_type": "stream",
          "text": [
            "ERROR: [youtube] 00tm1g6HAg0: Sign in to confirm you’re not a bot. Use --cookies-from-browser or --cookies for the authentication. See  https://github.com/yt-dlp/yt-dlp/wiki/FAQ#how-do-i-pass-cookies-to-yt-dlp  for how to manually pass cookies. Also see  https://github.com/yt-dlp/yt-dlp/wiki/Extractors#exporting-youtube-cookies  for tips on effectively exporting YouTube cookies\n"
          ]
        },
        {
          "name": "stdout",
          "output_type": "stream",
          "text": [
            "Error processing row 4202: ERROR: [youtube] 00tm1g6HAg0: Sign in to confirm you’re not a bot. Use --cookies-from-browser or --cookies for the authentication. See  https://github.com/yt-dlp/yt-dlp/wiki/FAQ#how-do-i-pass-cookies-to-yt-dlp  for how to manually pass cookies. Also see  https://github.com/yt-dlp/yt-dlp/wiki/Extractors#exporting-youtube-cookies  for tips on effectively exporting YouTube cookies\n",
            "Processing 00upPhvd6s4 at row 4203...\n"
          ]
        },
        {
          "name": "stderr",
          "output_type": "stream",
          "text": [
            "ERROR: [youtube] 00upPhvd6s4: Sign in to confirm you’re not a bot. Use --cookies-from-browser or --cookies for the authentication. See  https://github.com/yt-dlp/yt-dlp/wiki/FAQ#how-do-i-pass-cookies-to-yt-dlp  for how to manually pass cookies. Also see  https://github.com/yt-dlp/yt-dlp/wiki/Extractors#exporting-youtube-cookies  for tips on effectively exporting YouTube cookies\n"
          ]
        },
        {
          "name": "stdout",
          "output_type": "stream",
          "text": [
            "Error processing row 4203: ERROR: [youtube] 00upPhvd6s4: Sign in to confirm you’re not a bot. Use --cookies-from-browser or --cookies for the authentication. See  https://github.com/yt-dlp/yt-dlp/wiki/FAQ#how-do-i-pass-cookies-to-yt-dlp  for how to manually pass cookies. Also see  https://github.com/yt-dlp/yt-dlp/wiki/Extractors#exporting-youtube-cookies  for tips on effectively exporting YouTube cookies\n",
            "Processing 00wORCOKNHw at row 4204...\n"
          ]
        },
        {
          "name": "stderr",
          "output_type": "stream",
          "text": [
            "ERROR: [youtube] 00wORCOKNHw: Sign in to confirm you’re not a bot. Use --cookies-from-browser or --cookies for the authentication. See  https://github.com/yt-dlp/yt-dlp/wiki/FAQ#how-do-i-pass-cookies-to-yt-dlp  for how to manually pass cookies. Also see  https://github.com/yt-dlp/yt-dlp/wiki/Extractors#exporting-youtube-cookies  for tips on effectively exporting YouTube cookies\n"
          ]
        },
        {
          "name": "stdout",
          "output_type": "stream",
          "text": [
            "Error processing row 4204: ERROR: [youtube] 00wORCOKNHw: Sign in to confirm you’re not a bot. Use --cookies-from-browser or --cookies for the authentication. See  https://github.com/yt-dlp/yt-dlp/wiki/FAQ#how-do-i-pass-cookies-to-yt-dlp  for how to manually pass cookies. Also see  https://github.com/yt-dlp/yt-dlp/wiki/Extractors#exporting-youtube-cookies  for tips on effectively exporting YouTube cookies\n",
            "Processing 00woB5JzpZs at row 4205...\n",
            "{'video_found': True, 'audio_found': True, 'metadata': {'major_brand': 'mp42', 'minor_version': '0', 'compatible_brands': 'isommp42', 'creation_time': '2024-03-04T07:21:28.000000Z'}, 'inputs': [{'streams': [{'input_number': 0, 'stream_number': 0, 'stream_type': 'video', 'language': None, 'default': True, 'size': [640, 360], 'bitrate': 144, 'fps': 29.97002997002997, 'codec_name': 'h264', 'profile': '(Main)', 'metadata': {'Metadata': '', 'creation_time': '2024-03-04T07:21:28.000000Z', 'handler_name': 'ISO Media file produced by Google Inc. Created on: 03/03/2024.', 'vendor_id': '[0][0][0][0]'}}, {'input_number': 0, 'stream_number': 1, 'stream_type': 'audio', 'language': 'eng', 'default': True, 'fps': 44100, 'bitrate': 127, 'metadata': {'Metadata': '', 'creation_time': '2024-03-04T07:21:28.000000Z', 'handler_name': 'ISO Media file produced by Google Inc. Created on: 03/03/2024.', 'vendor_id': '[0][0][0][0]'}}], 'input_number': 0}], 'duration': 141.55, 'bitrate': 276, 'start': 0.0, 'default_video_input_number': 0, 'default_video_stream_number': 0, 'video_codec_name': 'h264', 'video_profile': '(Main)', 'video_size': [640, 360], 'video_bitrate': 144, 'video_fps': 29.97002997002997, 'default_audio_input_number': 0, 'default_audio_stream_number': 1, 'audio_fps': 44100, 'audio_bitrate': 127, 'video_duration': 141.55, 'video_n_frames': 4242}\n",
            "/hpc/home/jj277/.local/lib/python3.9/site-packages/imageio_ffmpeg/binaries/ffmpeg-linux-x86_64-v7.0.2 -i ./dataset/videos/00woB5JzpZs_full.mp4 -loglevel error -f image2pipe -vf scale=640:360 -sws_flags bicubic -pix_fmt rgb24 -vcodec rawvideo -\n",
            "{'video_found': True, 'audio_found': True, 'metadata': {'major_brand': 'mp42', 'minor_version': '0', 'compatible_brands': 'isommp42', 'creation_time': '2024-03-04T07:21:28.000000Z'}, 'inputs': [{'streams': [{'input_number': 0, 'stream_number': 0, 'stream_type': 'video', 'language': None, 'default': True, 'size': [640, 360], 'bitrate': 144, 'fps': 29.97002997002997, 'codec_name': 'h264', 'profile': '(Main)', 'metadata': {'Metadata': '', 'creation_time': '2024-03-04T07:21:28.000000Z', 'handler_name': 'ISO Media file produced by Google Inc. Created on: 03/03/2024.', 'vendor_id': '[0][0][0][0]'}}, {'input_number': 0, 'stream_number': 1, 'stream_type': 'audio', 'language': 'eng', 'default': True, 'fps': 44100, 'bitrate': 127, 'metadata': {'Metadata': '', 'creation_time': '2024-03-04T07:21:28.000000Z', 'handler_name': 'ISO Media file produced by Google Inc. Created on: 03/03/2024.', 'vendor_id': '[0][0][0][0]'}}], 'input_number': 0}], 'duration': 141.55, 'bitrate': 276, 'start': 0.0, 'default_video_input_number': 0, 'default_video_stream_number': 0, 'video_codec_name': 'h264', 'video_profile': '(Main)', 'video_size': [640, 360], 'video_bitrate': 144, 'video_fps': 29.97002997002997, 'default_audio_input_number': 0, 'default_audio_stream_number': 1, 'audio_fps': 44100, 'audio_bitrate': 127, 'video_duration': 141.55, 'video_n_frames': 4242}\n",
            "/hpc/home/jj277/.local/lib/python3.9/site-packages/imageio_ffmpeg/binaries/ffmpeg-linux-x86_64-v7.0.2 -ss 69.000000 -i ./dataset/videos/00woB5JzpZs_full.mp4 -ss 1.000000 -loglevel error -f image2pipe -vf scale=640:360 -sws_flags bicubic -pix_fmt rgb24 -vcodec rawvideo -\n",
            "MoviePy - Building video ./dataset/videos/00woB5JzpZs.mp4.\n",
            "MoviePy - Writing audio in 00woB5JzpZsTEMP_MPY_wvf_snd.mp4\n"
          ]
        },
        {
          "name": "stderr",
          "output_type": "stream",
          "text": [
            "                                                                   \r"
          ]
        },
        {
          "name": "stdout",
          "output_type": "stream",
          "text": [
            "MoviePy - Done.\n",
            "MoviePy - Writing video ./dataset/videos/00woB5JzpZs.mp4\n",
            "\n"
          ]
        },
        {
          "name": "stderr",
          "output_type": "stream",
          "text": [
            "                                                                         \r"
          ]
        },
        {
          "name": "stdout",
          "output_type": "stream",
          "text": [
            "MoviePy - Done !\n",
            "MoviePy - video ready ./dataset/videos/00woB5JzpZs.mp4\n",
            "Done: 00woB5JzpZs\n",
            "Processing 00yZOgawwAo at row 4206...\n",
            "{'video_found': True, 'audio_found': True, 'metadata': {'major_brand': 'mp42', 'minor_version': '0', 'compatible_brands': 'isommp42', 'creation_time': '2018-11-26T00:04:47.000000Z'}, 'inputs': [{'streams': [{'input_number': 0, 'stream_number': 0, 'stream_type': 'video', 'language': None, 'default': True, 'size': [640, 360], 'bitrate': 273, 'fps': 30.0, 'codec_name': 'h264', 'profile': '(Main)', 'metadata': {'Metadata': '', 'creation_time': '2018-11-26T00:04:47.000000Z', 'handler_name': 'ISO Media file produced by Google Inc. Created on: 11/25/2018.', 'vendor_id': '[0][0][0][0]'}}, {'input_number': 0, 'stream_number': 1, 'stream_type': 'audio', 'language': 'eng', 'default': True, 'fps': 44100, 'bitrate': 127, 'metadata': {'Metadata': '', 'creation_time': '2018-11-26T00:04:47.000000Z', 'handler_name': 'ISO Media file produced by Google Inc. Created on: 11/25/2018.', 'vendor_id': '[0][0][0][0]'}}], 'input_number': 0}], 'duration': 603.12, 'bitrate': 405, 'start': 0.0, 'default_video_input_number': 0, 'default_video_stream_number': 0, 'video_codec_name': 'h264', 'video_profile': '(Main)', 'video_size': [640, 360], 'video_bitrate': 273, 'video_fps': 30.0, 'default_audio_input_number': 0, 'default_audio_stream_number': 1, 'audio_fps': 44100, 'audio_bitrate': 127, 'video_duration': 603.12, 'video_n_frames': 18093}\n",
            "/hpc/home/jj277/.local/lib/python3.9/site-packages/imageio_ffmpeg/binaries/ffmpeg-linux-x86_64-v7.0.2 -i ./dataset/videos/00yZOgawwAo_full.mp4 -loglevel error -f image2pipe -vf scale=640:360 -sws_flags bicubic -pix_fmt rgb24 -vcodec rawvideo -\n",
            "{'video_found': True, 'audio_found': True, 'metadata': {'major_brand': 'mp42', 'minor_version': '0', 'compatible_brands': 'isommp42', 'creation_time': '2018-11-26T00:04:47.000000Z'}, 'inputs': [{'streams': [{'input_number': 0, 'stream_number': 0, 'stream_type': 'video', 'language': None, 'default': True, 'size': [640, 360], 'bitrate': 273, 'fps': 30.0, 'codec_name': 'h264', 'profile': '(Main)', 'metadata': {'Metadata': '', 'creation_time': '2018-11-26T00:04:47.000000Z', 'handler_name': 'ISO Media file produced by Google Inc. Created on: 11/25/2018.', 'vendor_id': '[0][0][0][0]'}}, {'input_number': 0, 'stream_number': 1, 'stream_type': 'audio', 'language': 'eng', 'default': True, 'fps': 44100, 'bitrate': 127, 'metadata': {'Metadata': '', 'creation_time': '2018-11-26T00:04:47.000000Z', 'handler_name': 'ISO Media file produced by Google Inc. Created on: 11/25/2018.', 'vendor_id': '[0][0][0][0]'}}], 'input_number': 0}], 'duration': 603.12, 'bitrate': 405, 'start': 0.0, 'default_video_input_number': 0, 'default_video_stream_number': 0, 'video_codec_name': 'h264', 'video_profile': '(Main)', 'video_size': [640, 360], 'video_bitrate': 273, 'video_fps': 30.0, 'default_audio_input_number': 0, 'default_audio_stream_number': 1, 'audio_fps': 44100, 'audio_bitrate': 127, 'video_duration': 603.12, 'video_n_frames': 18093}\n",
            "/hpc/home/jj277/.local/lib/python3.9/site-packages/imageio_ffmpeg/binaries/ffmpeg-linux-x86_64-v7.0.2 -ss 340.000000 -i ./dataset/videos/00yZOgawwAo_full.mp4 -ss 1.000000 -loglevel error -f image2pipe -vf scale=640:360 -sws_flags bicubic -pix_fmt rgb24 -vcodec rawvideo -\n",
            "MoviePy - Building video ./dataset/videos/00yZOgawwAo.mp4.\n",
            "MoviePy - Writing audio in 00yZOgawwAoTEMP_MPY_wvf_snd.mp4\n"
          ]
        },
        {
          "name": "stderr",
          "output_type": "stream",
          "text": [
            "                                                                   \r"
          ]
        },
        {
          "name": "stdout",
          "output_type": "stream",
          "text": [
            "MoviePy - Done.\n",
            "MoviePy - Writing video ./dataset/videos/00yZOgawwAo.mp4\n",
            "\n"
          ]
        },
        {
          "name": "stderr",
          "output_type": "stream",
          "text": [
            "                                                                        \r"
          ]
        },
        {
          "name": "stdout",
          "output_type": "stream",
          "text": [
            "MoviePy - Done !\n",
            "MoviePy - video ready ./dataset/videos/00yZOgawwAo.mp4\n",
            "Done: 00yZOgawwAo\n",
            "Processing 00yZOgawwAo at row 4207...\n"
          ]
        },
        {
          "name": "stderr",
          "output_type": "stream",
          "text": [
            "ERROR: [youtube] 00yZOgawwAo: Sign in to confirm you’re not a bot. Use --cookies-from-browser or --cookies for the authentication. See  https://github.com/yt-dlp/yt-dlp/wiki/FAQ#how-do-i-pass-cookies-to-yt-dlp  for how to manually pass cookies. Also see  https://github.com/yt-dlp/yt-dlp/wiki/Extractors#exporting-youtube-cookies  for tips on effectively exporting YouTube cookies\n"
          ]
        },
        {
          "name": "stdout",
          "output_type": "stream",
          "text": [
            "Error processing row 4207: ERROR: [youtube] 00yZOgawwAo: Sign in to confirm you’re not a bot. Use --cookies-from-browser or --cookies for the authentication. See  https://github.com/yt-dlp/yt-dlp/wiki/FAQ#how-do-i-pass-cookies-to-yt-dlp  for how to manually pass cookies. Also see  https://github.com/yt-dlp/yt-dlp/wiki/Extractors#exporting-youtube-cookies  for tips on effectively exporting YouTube cookies\n",
            "Processing 00ypc1aPiO4 at row 4208...\n"
          ]
        },
        {
          "name": "stderr",
          "output_type": "stream",
          "text": [
            "ERROR: [youtube] 00ypc1aPiO4: Sign in to confirm you’re not a bot. Use --cookies-from-browser or --cookies for the authentication. See  https://github.com/yt-dlp/yt-dlp/wiki/FAQ#how-do-i-pass-cookies-to-yt-dlp  for how to manually pass cookies. Also see  https://github.com/yt-dlp/yt-dlp/wiki/Extractors#exporting-youtube-cookies  for tips on effectively exporting YouTube cookies\n"
          ]
        },
        {
          "name": "stdout",
          "output_type": "stream",
          "text": [
            "Error processing row 4208: ERROR: [youtube] 00ypc1aPiO4: Sign in to confirm you’re not a bot. Use --cookies-from-browser or --cookies for the authentication. See  https://github.com/yt-dlp/yt-dlp/wiki/FAQ#how-do-i-pass-cookies-to-yt-dlp  for how to manually pass cookies. Also see  https://github.com/yt-dlp/yt-dlp/wiki/Extractors#exporting-youtube-cookies  for tips on effectively exporting YouTube cookies\n",
            "Processing 00ypc1aPiO4 at row 4209...\n"
          ]
        },
        {
          "name": "stderr",
          "output_type": "stream",
          "text": [
            "ERROR: [youtube] 00ypc1aPiO4: Sign in to confirm you’re not a bot. Use --cookies-from-browser or --cookies for the authentication. See  https://github.com/yt-dlp/yt-dlp/wiki/FAQ#how-do-i-pass-cookies-to-yt-dlp  for how to manually pass cookies. Also see  https://github.com/yt-dlp/yt-dlp/wiki/Extractors#exporting-youtube-cookies  for tips on effectively exporting YouTube cookies\n"
          ]
        },
        {
          "name": "stdout",
          "output_type": "stream",
          "text": [
            "Error processing row 4209: ERROR: [youtube] 00ypc1aPiO4: Sign in to confirm you’re not a bot. Use --cookies-from-browser or --cookies for the authentication. See  https://github.com/yt-dlp/yt-dlp/wiki/FAQ#how-do-i-pass-cookies-to-yt-dlp  for how to manually pass cookies. Also see  https://github.com/yt-dlp/yt-dlp/wiki/Extractors#exporting-youtube-cookies  for tips on effectively exporting YouTube cookies\n",
            "Processing 00ypkSbNDhM at row 4210...\n",
            "{'video_found': True, 'audio_found': True, 'metadata': {'major_brand': 'mp42', 'minor_version': '0', 'compatible_brands': 'isommp42', 'creation_time': '2024-03-10T00:37:56.000000Z'}, 'inputs': [{'streams': [{'input_number': 0, 'stream_number': 0, 'stream_type': 'video', 'language': None, 'default': True, 'size': [640, 360], 'bitrate': 365, 'fps': 30.0, 'codec_name': 'h264', 'profile': '(Main)', 'metadata': {'Metadata': '', 'creation_time': '2024-03-10T00:37:56.000000Z', 'handler_name': 'ISO Media file produced by Google Inc. Created on: 03/09/2024.', 'vendor_id': '[0][0][0][0]'}}, {'input_number': 0, 'stream_number': 1, 'stream_type': 'audio', 'language': 'eng', 'default': True, 'fps': 44100, 'bitrate': 128, 'metadata': {'Metadata': '', 'creation_time': '2024-03-10T00:37:56.000000Z', 'handler_name': 'ISO Media file produced by Google Inc. Created on: 03/09/2024.', 'vendor_id': '[0][0][0][0]'}}], 'input_number': 0}], 'duration': 612.17, 'bitrate': 497, 'start': 0.0, 'default_video_input_number': 0, 'default_video_stream_number': 0, 'video_codec_name': 'h264', 'video_profile': '(Main)', 'video_size': [640, 360], 'video_bitrate': 365, 'video_fps': 30.0, 'default_audio_input_number': 0, 'default_audio_stream_number': 1, 'audio_fps': 44100, 'audio_bitrate': 128, 'video_duration': 612.17, 'video_n_frames': 18365}\n",
            "/hpc/home/jj277/.local/lib/python3.9/site-packages/imageio_ffmpeg/binaries/ffmpeg-linux-x86_64-v7.0.2 -i ./dataset/videos/00ypkSbNDhM_full.mp4 -loglevel error -f image2pipe -vf scale=640:360 -sws_flags bicubic -pix_fmt rgb24 -vcodec rawvideo -\n",
            "{'video_found': True, 'audio_found': True, 'metadata': {'major_brand': 'mp42', 'minor_version': '0', 'compatible_brands': 'isommp42', 'creation_time': '2024-03-10T00:37:56.000000Z'}, 'inputs': [{'streams': [{'input_number': 0, 'stream_number': 0, 'stream_type': 'video', 'language': None, 'default': True, 'size': [640, 360], 'bitrate': 365, 'fps': 30.0, 'codec_name': 'h264', 'profile': '(Main)', 'metadata': {'Metadata': '', 'creation_time': '2024-03-10T00:37:56.000000Z', 'handler_name': 'ISO Media file produced by Google Inc. Created on: 03/09/2024.', 'vendor_id': '[0][0][0][0]'}}, {'input_number': 0, 'stream_number': 1, 'stream_type': 'audio', 'language': 'eng', 'default': True, 'fps': 44100, 'bitrate': 128, 'metadata': {'Metadata': '', 'creation_time': '2024-03-10T00:37:56.000000Z', 'handler_name': 'ISO Media file produced by Google Inc. Created on: 03/09/2024.', 'vendor_id': '[0][0][0][0]'}}], 'input_number': 0}], 'duration': 612.17, 'bitrate': 497, 'start': 0.0, 'default_video_input_number': 0, 'default_video_stream_number': 0, 'video_codec_name': 'h264', 'video_profile': '(Main)', 'video_size': [640, 360], 'video_bitrate': 365, 'video_fps': 30.0, 'default_audio_input_number': 0, 'default_audio_stream_number': 1, 'audio_fps': 44100, 'audio_bitrate': 128, 'video_duration': 612.17, 'video_n_frames': 18365}\n",
            "/hpc/home/jj277/.local/lib/python3.9/site-packages/imageio_ffmpeg/binaries/ffmpeg-linux-x86_64-v7.0.2 -ss 142.000000 -i ./dataset/videos/00ypkSbNDhM_full.mp4 -ss 1.000000 -loglevel error -f image2pipe -vf scale=640:360 -sws_flags bicubic -pix_fmt rgb24 -vcodec rawvideo -\n",
            "MoviePy - Building video ./dataset/videos/00ypkSbNDhM.mp4.\n",
            "MoviePy - Writing audio in 00ypkSbNDhMTEMP_MPY_wvf_snd.mp4\n"
          ]
        },
        {
          "name": "stderr",
          "output_type": "stream",
          "text": [
            "                                                                   \r"
          ]
        },
        {
          "name": "stdout",
          "output_type": "stream",
          "text": [
            "MoviePy - Done.\n",
            "MoviePy - Writing video ./dataset/videos/00ypkSbNDhM.mp4\n",
            "\n"
          ]
        },
        {
          "name": "stderr",
          "output_type": "stream",
          "text": [
            "                                                                         \r"
          ]
        },
        {
          "name": "stdout",
          "output_type": "stream",
          "text": [
            "MoviePy - Done !\n",
            "MoviePy - video ready ./dataset/videos/00ypkSbNDhM.mp4\n",
            "Done: 00ypkSbNDhM\n",
            "Processing 00ypkSbNDhM at row 4211...\n"
          ]
        },
        {
          "name": "stderr",
          "output_type": "stream",
          "text": [
            "ERROR: [youtube] 00ypkSbNDhM: Sign in to confirm you’re not a bot. Use --cookies-from-browser or --cookies for the authentication. See  https://github.com/yt-dlp/yt-dlp/wiki/FAQ#how-do-i-pass-cookies-to-yt-dlp  for how to manually pass cookies. Also see  https://github.com/yt-dlp/yt-dlp/wiki/Extractors#exporting-youtube-cookies  for tips on effectively exporting YouTube cookies\n"
          ]
        },
        {
          "name": "stdout",
          "output_type": "stream",
          "text": [
            "Error processing row 4211: ERROR: [youtube] 00ypkSbNDhM: Sign in to confirm you’re not a bot. Use --cookies-from-browser or --cookies for the authentication. See  https://github.com/yt-dlp/yt-dlp/wiki/FAQ#how-do-i-pass-cookies-to-yt-dlp  for how to manually pass cookies. Also see  https://github.com/yt-dlp/yt-dlp/wiki/Extractors#exporting-youtube-cookies  for tips on effectively exporting YouTube cookies\n",
            "Processing 00z0M1DJyAw at row 4212...\n",
            "{'video_found': True, 'audio_found': True, 'metadata': {'major_brand': 'mp42', 'minor_version': '0', 'compatible_brands': 'isommp42', 'encoder': 'Google'}, 'inputs': [{'streams': [{'input_number': 0, 'stream_number': 0, 'stream_type': 'video', 'language': None, 'default': True, 'size': [640, 360], 'bitrate': 638, 'fps': 29.97002997002997, 'codec_name': 'h264', 'profile': '(Main)', 'metadata': {'Metadata': '', 'handler_name': 'ISO Media file produced by Google Inc.', 'vendor_id': '[0][0][0][0]'}}, {'input_number': 0, 'stream_number': 1, 'stream_type': 'audio', 'language': 'eng', 'default': True, 'fps': 44100, 'bitrate': 96, 'metadata': {'Metadata': '', 'handler_name': 'ISO Media file produced by Google Inc.', 'vendor_id': '[0][0][0][0]'}}], 'input_number': 0}], 'duration': 113.5, 'bitrate': 736, 'start': 0.0, 'default_video_input_number': 0, 'default_video_stream_number': 0, 'video_codec_name': 'h264', 'video_profile': '(Main)', 'video_size': [640, 360], 'video_bitrate': 638, 'video_fps': 29.97002997002997, 'default_audio_input_number': 0, 'default_audio_stream_number': 1, 'audio_fps': 44100, 'audio_bitrate': 96, 'video_duration': 113.5, 'video_n_frames': 3401}\n",
            "/hpc/home/jj277/.local/lib/python3.9/site-packages/imageio_ffmpeg/binaries/ffmpeg-linux-x86_64-v7.0.2 -i ./dataset/videos/00z0M1DJyAw_full.mp4 -loglevel error -f image2pipe -vf scale=640:360 -sws_flags bicubic -pix_fmt rgb24 -vcodec rawvideo -\n",
            "{'video_found': True, 'audio_found': True, 'metadata': {'major_brand': 'mp42', 'minor_version': '0', 'compatible_brands': 'isommp42', 'encoder': 'Google'}, 'inputs': [{'streams': [{'input_number': 0, 'stream_number': 0, 'stream_type': 'video', 'language': None, 'default': True, 'size': [640, 360], 'bitrate': 638, 'fps': 29.97002997002997, 'codec_name': 'h264', 'profile': '(Main)', 'metadata': {'Metadata': '', 'handler_name': 'ISO Media file produced by Google Inc.', 'vendor_id': '[0][0][0][0]'}}, {'input_number': 0, 'stream_number': 1, 'stream_type': 'audio', 'language': 'eng', 'default': True, 'fps': 44100, 'bitrate': 96, 'metadata': {'Metadata': '', 'handler_name': 'ISO Media file produced by Google Inc.', 'vendor_id': '[0][0][0][0]'}}], 'input_number': 0}], 'duration': 113.5, 'bitrate': 736, 'start': 0.0, 'default_video_input_number': 0, 'default_video_stream_number': 0, 'video_codec_name': 'h264', 'video_profile': '(Main)', 'video_size': [640, 360], 'video_bitrate': 638, 'video_fps': 29.97002997002997, 'default_audio_input_number': 0, 'default_audio_stream_number': 1, 'audio_fps': 44100, 'audio_bitrate': 96, 'video_duration': 113.5, 'video_n_frames': 3401}\n",
            "/hpc/home/jj277/.local/lib/python3.9/site-packages/imageio_ffmpeg/binaries/ffmpeg-linux-x86_64-v7.0.2 -ss 89.000000 -i ./dataset/videos/00z0M1DJyAw_full.mp4 -ss 1.000000 -loglevel error -f image2pipe -vf scale=640:360 -sws_flags bicubic -pix_fmt rgb24 -vcodec rawvideo -\n",
            "MoviePy - Building video ./dataset/videos/00z0M1DJyAw.mp4.\n",
            "MoviePy - Writing audio in 00z0M1DJyAwTEMP_MPY_wvf_snd.mp4\n"
          ]
        },
        {
          "name": "stderr",
          "output_type": "stream",
          "text": [
            "                                                                   \r"
          ]
        },
        {
          "name": "stdout",
          "output_type": "stream",
          "text": [
            "MoviePy - Done.\n",
            "MoviePy - Writing video ./dataset/videos/00z0M1DJyAw.mp4\n",
            "\n"
          ]
        },
        {
          "name": "stderr",
          "output_type": "stream",
          "text": [
            "                                                                        \r"
          ]
        },
        {
          "name": "stdout",
          "output_type": "stream",
          "text": [
            "MoviePy - Done !\n",
            "MoviePy - video ready ./dataset/videos/00z0M1DJyAw.mp4\n",
            "Done: 00z0M1DJyAw\n",
            "Processing 0102_FBc_70 at row 4213...\n"
          ]
        },
        {
          "name": "stderr",
          "output_type": "stream",
          "text": [
            "ERROR: [youtube] 0102_FBc_70: Video unavailable\n"
          ]
        },
        {
          "name": "stdout",
          "output_type": "stream",
          "text": [
            "Error processing row 4213: ERROR: [youtube] 0102_FBc_70: Video unavailable\n",
            "Processing 011Z5yjq6wo at row 4214...\n",
            "{'video_found': True, 'audio_found': True, 'metadata': {'major_brand': 'mp42', 'minor_version': '0', 'compatible_brands': 'isommp42', 'creation_time': '2023-05-17T21:38:54.000000Z'}, 'inputs': [{'streams': [{'input_number': 0, 'stream_number': 0, 'stream_type': 'video', 'language': None, 'default': True, 'size': [640, 360], 'bitrate': 509, 'fps': 30.0, 'codec_name': 'h264', 'profile': '(Main)', 'metadata': {'Metadata': '', 'creation_time': '2023-05-17T21:38:54.000000Z', 'handler_name': 'ISO Media file produced by Google Inc. Created on: 05/17/2023.', 'vendor_id': '[0][0][0][0]'}}, {'input_number': 0, 'stream_number': 1, 'stream_type': 'audio', 'language': None, 'default': True, 'fps': 44100, 'bitrate': 127, 'metadata': {'Metadata': '', 'creation_time': '2023-05-17T21:38:54.000000Z', 'handler_name': 'ISO Media file produced by Google Inc. Created on: 05/17/2023.', 'vendor_id': '[0][0][0][0]'}}], 'input_number': 0}], 'duration': 366.43, 'bitrate': 640, 'start': 0.0, 'default_video_input_number': 0, 'default_video_stream_number': 0, 'video_codec_name': 'h264', 'video_profile': '(Main)', 'video_size': [640, 360], 'video_bitrate': 509, 'video_fps': 30.0, 'default_audio_input_number': 0, 'default_audio_stream_number': 1, 'audio_fps': 44100, 'audio_bitrate': 127, 'video_duration': 366.43, 'video_n_frames': 10992}\n",
            "/hpc/home/jj277/.local/lib/python3.9/site-packages/imageio_ffmpeg/binaries/ffmpeg-linux-x86_64-v7.0.2 -i ./dataset/videos/011Z5yjq6wo_full.mp4 -loglevel error -f image2pipe -vf scale=640:360 -sws_flags bicubic -pix_fmt rgb24 -vcodec rawvideo -\n",
            "{'video_found': True, 'audio_found': True, 'metadata': {'major_brand': 'mp42', 'minor_version': '0', 'compatible_brands': 'isommp42', 'creation_time': '2023-05-17T21:38:54.000000Z'}, 'inputs': [{'streams': [{'input_number': 0, 'stream_number': 0, 'stream_type': 'video', 'language': None, 'default': True, 'size': [640, 360], 'bitrate': 509, 'fps': 30.0, 'codec_name': 'h264', 'profile': '(Main)', 'metadata': {'Metadata': '', 'creation_time': '2023-05-17T21:38:54.000000Z', 'handler_name': 'ISO Media file produced by Google Inc. Created on: 05/17/2023.', 'vendor_id': '[0][0][0][0]'}}, {'input_number': 0, 'stream_number': 1, 'stream_type': 'audio', 'language': None, 'default': True, 'fps': 44100, 'bitrate': 127, 'metadata': {'Metadata': '', 'creation_time': '2023-05-17T21:38:54.000000Z', 'handler_name': 'ISO Media file produced by Google Inc. Created on: 05/17/2023.', 'vendor_id': '[0][0][0][0]'}}], 'input_number': 0}], 'duration': 366.43, 'bitrate': 640, 'start': 0.0, 'default_video_input_number': 0, 'default_video_stream_number': 0, 'video_codec_name': 'h264', 'video_profile': '(Main)', 'video_size': [640, 360], 'video_bitrate': 509, 'video_fps': 30.0, 'default_audio_input_number': 0, 'default_audio_stream_number': 1, 'audio_fps': 44100, 'audio_bitrate': 127, 'video_duration': 366.43, 'video_n_frames': 10992}\n",
            "/hpc/home/jj277/.local/lib/python3.9/site-packages/imageio_ffmpeg/binaries/ffmpeg-linux-x86_64-v7.0.2 -ss 113.000000 -i ./dataset/videos/011Z5yjq6wo_full.mp4 -ss 1.000000 -loglevel error -f image2pipe -vf scale=640:360 -sws_flags bicubic -pix_fmt rgb24 -vcodec rawvideo -\n",
            "MoviePy - Building video ./dataset/videos/011Z5yjq6wo.mp4.\n",
            "MoviePy - Writing audio in 011Z5yjq6woTEMP_MPY_wvf_snd.mp4\n"
          ]
        },
        {
          "name": "stderr",
          "output_type": "stream",
          "text": [
            "                                                                   \r"
          ]
        },
        {
          "name": "stdout",
          "output_type": "stream",
          "text": [
            "MoviePy - Done.\n",
            "MoviePy - Writing video ./dataset/videos/011Z5yjq6wo.mp4\n",
            "\n"
          ]
        },
        {
          "name": "stderr",
          "output_type": "stream",
          "text": [
            "                                                                         \r"
          ]
        },
        {
          "name": "stdout",
          "output_type": "stream",
          "text": [
            "MoviePy - Done !\n",
            "MoviePy - video ready ./dataset/videos/011Z5yjq6wo.mp4\n",
            "Done: 011Z5yjq6wo\n",
            "Processing 011Z5yjq6wo at row 4215...\n",
            "{'video_found': True, 'audio_found': True, 'metadata': {'major_brand': 'mp42', 'minor_version': '0', 'compatible_brands': 'isommp42', 'creation_time': '2023-05-17T21:38:54.000000Z'}, 'inputs': [{'streams': [{'input_number': 0, 'stream_number': 0, 'stream_type': 'video', 'language': None, 'default': True, 'size': [640, 360], 'bitrate': 509, 'fps': 30.0, 'codec_name': 'h264', 'profile': '(Main)', 'metadata': {'Metadata': '', 'creation_time': '2023-05-17T21:38:54.000000Z', 'handler_name': 'ISO Media file produced by Google Inc. Created on: 05/17/2023.', 'vendor_id': '[0][0][0][0]'}}, {'input_number': 0, 'stream_number': 1, 'stream_type': 'audio', 'language': None, 'default': True, 'fps': 44100, 'bitrate': 127, 'metadata': {'Metadata': '', 'creation_time': '2023-05-17T21:38:54.000000Z', 'handler_name': 'ISO Media file produced by Google Inc. Created on: 05/17/2023.', 'vendor_id': '[0][0][0][0]'}}], 'input_number': 0}], 'duration': 366.43, 'bitrate': 640, 'start': 0.0, 'default_video_input_number': 0, 'default_video_stream_number': 0, 'video_codec_name': 'h264', 'video_profile': '(Main)', 'video_size': [640, 360], 'video_bitrate': 509, 'video_fps': 30.0, 'default_audio_input_number': 0, 'default_audio_stream_number': 1, 'audio_fps': 44100, 'audio_bitrate': 127, 'video_duration': 366.43, 'video_n_frames': 10992}\n",
            "/hpc/home/jj277/.local/lib/python3.9/site-packages/imageio_ffmpeg/binaries/ffmpeg-linux-x86_64-v7.0.2 -i ./dataset/videos/011Z5yjq6wo_full.mp4 -loglevel error -f image2pipe -vf scale=640:360 -sws_flags bicubic -pix_fmt rgb24 -vcodec rawvideo -\n",
            "{'video_found': True, 'audio_found': True, 'metadata': {'major_brand': 'mp42', 'minor_version': '0', 'compatible_brands': 'isommp42', 'creation_time': '2023-05-17T21:38:54.000000Z'}, 'inputs': [{'streams': [{'input_number': 0, 'stream_number': 0, 'stream_type': 'video', 'language': None, 'default': True, 'size': [640, 360], 'bitrate': 509, 'fps': 30.0, 'codec_name': 'h264', 'profile': '(Main)', 'metadata': {'Metadata': '', 'creation_time': '2023-05-17T21:38:54.000000Z', 'handler_name': 'ISO Media file produced by Google Inc. Created on: 05/17/2023.', 'vendor_id': '[0][0][0][0]'}}, {'input_number': 0, 'stream_number': 1, 'stream_type': 'audio', 'language': None, 'default': True, 'fps': 44100, 'bitrate': 127, 'metadata': {'Metadata': '', 'creation_time': '2023-05-17T21:38:54.000000Z', 'handler_name': 'ISO Media file produced by Google Inc. Created on: 05/17/2023.', 'vendor_id': '[0][0][0][0]'}}], 'input_number': 0}], 'duration': 366.43, 'bitrate': 640, 'start': 0.0, 'default_video_input_number': 0, 'default_video_stream_number': 0, 'video_codec_name': 'h264', 'video_profile': '(Main)', 'video_size': [640, 360], 'video_bitrate': 509, 'video_fps': 30.0, 'default_audio_input_number': 0, 'default_audio_stream_number': 1, 'audio_fps': 44100, 'audio_bitrate': 127, 'video_duration': 366.43, 'video_n_frames': 10992}\n",
            "/hpc/home/jj277/.local/lib/python3.9/site-packages/imageio_ffmpeg/binaries/ffmpeg-linux-x86_64-v7.0.2 -ss 125.000000 -i ./dataset/videos/011Z5yjq6wo_full.mp4 -ss 1.000000 -loglevel error -f image2pipe -vf scale=640:360 -sws_flags bicubic -pix_fmt rgb24 -vcodec rawvideo -\n",
            "MoviePy - Building video ./dataset/videos/011Z5yjq6wo.mp4.\n",
            "MoviePy - Writing audio in 011Z5yjq6woTEMP_MPY_wvf_snd.mp4\n"
          ]
        },
        {
          "name": "stderr",
          "output_type": "stream",
          "text": [
            "                                                                   \r"
          ]
        },
        {
          "name": "stdout",
          "output_type": "stream",
          "text": [
            "MoviePy - Done.\n",
            "MoviePy - Writing video ./dataset/videos/011Z5yjq6wo.mp4\n",
            "\n"
          ]
        },
        {
          "name": "stderr",
          "output_type": "stream",
          "text": [
            "                                                                         \r"
          ]
        },
        {
          "name": "stdout",
          "output_type": "stream",
          "text": [
            "MoviePy - Done !\n",
            "MoviePy - video ready ./dataset/videos/011Z5yjq6wo.mp4\n",
            "Done: 011Z5yjq6wo\n",
            "Processing 014EDZD8CHQ at row 4216...\n",
            "{'video_found': True, 'audio_found': True, 'metadata': {'major_brand': 'mp42', 'minor_version': '0', 'compatible_brands': 'isommp42', 'encoder': 'Google'}, 'inputs': [{'streams': [{'input_number': 0, 'stream_number': 0, 'stream_type': 'video', 'language': None, 'default': True, 'size': [640, 360], 'bitrate': 639, 'fps': 25.0, 'codec_name': 'h264', 'profile': '(Main)', 'metadata': {'Metadata': '', 'handler_name': 'ISO Media file produced by Google Inc.', 'vendor_id': '[0][0][0][0]'}}, {'input_number': 0, 'stream_number': 1, 'stream_type': 'audio', 'language': 'eng', 'default': True, 'fps': 44100, 'bitrate': 95, 'metadata': {'Metadata': '', 'handler_name': 'ISO Media file produced by Google Inc.', 'vendor_id': '[0][0][0][0]'}}], 'input_number': 0}], 'duration': 54.33, 'bitrate': 737, 'start': 0.0, 'default_video_input_number': 0, 'default_video_stream_number': 0, 'video_codec_name': 'h264', 'video_profile': '(Main)', 'video_size': [640, 360], 'video_bitrate': 639, 'video_fps': 25.0, 'default_audio_input_number': 0, 'default_audio_stream_number': 1, 'audio_fps': 44100, 'audio_bitrate': 95, 'video_duration': 54.33, 'video_n_frames': 1358}\n",
            "/hpc/home/jj277/.local/lib/python3.9/site-packages/imageio_ffmpeg/binaries/ffmpeg-linux-x86_64-v7.0.2 -i ./dataset/videos/014EDZD8CHQ_full.mp4 -loglevel error -f image2pipe -vf scale=640:360 -sws_flags bicubic -pix_fmt rgb24 -vcodec rawvideo -\n",
            "{'video_found': True, 'audio_found': True, 'metadata': {'major_brand': 'mp42', 'minor_version': '0', 'compatible_brands': 'isommp42', 'encoder': 'Google'}, 'inputs': [{'streams': [{'input_number': 0, 'stream_number': 0, 'stream_type': 'video', 'language': None, 'default': True, 'size': [640, 360], 'bitrate': 639, 'fps': 25.0, 'codec_name': 'h264', 'profile': '(Main)', 'metadata': {'Metadata': '', 'handler_name': 'ISO Media file produced by Google Inc.', 'vendor_id': '[0][0][0][0]'}}, {'input_number': 0, 'stream_number': 1, 'stream_type': 'audio', 'language': 'eng', 'default': True, 'fps': 44100, 'bitrate': 95, 'metadata': {'Metadata': '', 'handler_name': 'ISO Media file produced by Google Inc.', 'vendor_id': '[0][0][0][0]'}}], 'input_number': 0}], 'duration': 54.33, 'bitrate': 737, 'start': 0.0, 'default_video_input_number': 0, 'default_video_stream_number': 0, 'video_codec_name': 'h264', 'video_profile': '(Main)', 'video_size': [640, 360], 'video_bitrate': 639, 'video_fps': 25.0, 'default_audio_input_number': 0, 'default_audio_stream_number': 1, 'audio_fps': 44100, 'audio_bitrate': 95, 'video_duration': 54.33, 'video_n_frames': 1358}\n",
            "/hpc/home/jj277/.local/lib/python3.9/site-packages/imageio_ffmpeg/binaries/ffmpeg-linux-x86_64-v7.0.2 -ss 37.000000 -i ./dataset/videos/014EDZD8CHQ_full.mp4 -ss 1.000000 -loglevel error -f image2pipe -vf scale=640:360 -sws_flags bicubic -pix_fmt rgb24 -vcodec rawvideo -\n",
            "MoviePy - Building video ./dataset/videos/014EDZD8CHQ.mp4.\n",
            "MoviePy - Writing audio in 014EDZD8CHQTEMP_MPY_wvf_snd.mp4\n"
          ]
        },
        {
          "name": "stderr",
          "output_type": "stream",
          "text": [
            "                                                                   \r"
          ]
        },
        {
          "name": "stdout",
          "output_type": "stream",
          "text": [
            "MoviePy - Done.\n",
            "MoviePy - Writing video ./dataset/videos/014EDZD8CHQ.mp4\n",
            "\n"
          ]
        },
        {
          "name": "stderr",
          "output_type": "stream",
          "text": [
            "                                                                         \r"
          ]
        },
        {
          "name": "stdout",
          "output_type": "stream",
          "text": [
            "MoviePy - Done !\n",
            "MoviePy - video ready ./dataset/videos/014EDZD8CHQ.mp4\n",
            "Done: 014EDZD8CHQ\n",
            "Processing 014Rnl2xIZg at row 4217...\n"
          ]
        },
        {
          "name": "stderr",
          "output_type": "stream",
          "text": [
            "ERROR: [youtube] 014Rnl2xIZg: Video unavailable\n"
          ]
        },
        {
          "name": "stdout",
          "output_type": "stream",
          "text": [
            "Error processing row 4217: ERROR: [youtube] 014Rnl2xIZg: Video unavailable\n",
            "Processing 014wEN3qV1E at row 4218...\n"
          ]
        },
        {
          "name": "stderr",
          "output_type": "stream",
          "text": [
            "ERROR: [youtube] 014wEN3qV1E: Sign in to confirm you’re not a bot. Use --cookies-from-browser or --cookies for the authentication. See  https://github.com/yt-dlp/yt-dlp/wiki/FAQ#how-do-i-pass-cookies-to-yt-dlp  for how to manually pass cookies. Also see  https://github.com/yt-dlp/yt-dlp/wiki/Extractors#exporting-youtube-cookies  for tips on effectively exporting YouTube cookies\n"
          ]
        },
        {
          "name": "stdout",
          "output_type": "stream",
          "text": [
            "Error processing row 4218: ERROR: [youtube] 014wEN3qV1E: Sign in to confirm you’re not a bot. Use --cookies-from-browser or --cookies for the authentication. See  https://github.com/yt-dlp/yt-dlp/wiki/FAQ#how-do-i-pass-cookies-to-yt-dlp  for how to manually pass cookies. Also see  https://github.com/yt-dlp/yt-dlp/wiki/Extractors#exporting-youtube-cookies  for tips on effectively exporting YouTube cookies\n",
            "Processing 0156oeNSmdY at row 4219...\n"
          ]
        },
        {
          "name": "stderr",
          "output_type": "stream",
          "text": [
            "ERROR: [youtube] 0156oeNSmdY: Private video. Sign in if you've been granted access to this video. Use --cookies-from-browser or --cookies for the authentication. See  https://github.com/yt-dlp/yt-dlp/wiki/FAQ#how-do-i-pass-cookies-to-yt-dlp  for how to manually pass cookies. Also see  https://github.com/yt-dlp/yt-dlp/wiki/Extractors#exporting-youtube-cookies  for tips on effectively exporting YouTube cookies\n"
          ]
        },
        {
          "name": "stdout",
          "output_type": "stream",
          "text": [
            "Error processing row 4219: ERROR: [youtube] 0156oeNSmdY: Private video. Sign in if you've been granted access to this video. Use --cookies-from-browser or --cookies for the authentication. See  https://github.com/yt-dlp/yt-dlp/wiki/FAQ#how-do-i-pass-cookies-to-yt-dlp  for how to manually pass cookies. Also see  https://github.com/yt-dlp/yt-dlp/wiki/Extractors#exporting-youtube-cookies  for tips on effectively exporting YouTube cookies\n",
            "Processing 015T7UQR0zQ at row 4220...\n"
          ]
        },
        {
          "name": "stderr",
          "output_type": "stream",
          "text": [
            "ERROR: [youtube] 015T7UQR0zQ: Video unavailable\n"
          ]
        },
        {
          "name": "stdout",
          "output_type": "stream",
          "text": [
            "Error processing row 4220: ERROR: [youtube] 015T7UQR0zQ: Video unavailable\n",
            "Processing 016LCSDhwyQ at row 4221...\n"
          ]
        },
        {
          "name": "stderr",
          "output_type": "stream",
          "text": [
            "ERROR: [youtube] 016LCSDhwyQ: Video unavailable\n"
          ]
        },
        {
          "name": "stdout",
          "output_type": "stream",
          "text": [
            "Error processing row 4221: ERROR: [youtube] 016LCSDhwyQ: Video unavailable\n",
            "Processing 01Bl9ZlR7KI at row 4222...\n",
            "{'video_found': True, 'audio_found': True, 'metadata': {'major_brand': 'mp42', 'minor_version': '0', 'compatible_brands': 'isommp42', 'creation_time': '2019-09-16T08:50:45.000000Z'}, 'inputs': [{'streams': [{'input_number': 0, 'stream_number': 0, 'stream_type': 'video', 'language': None, 'default': True, 'size': [640, 360], 'bitrate': 243, 'fps': 25.0, 'codec_name': 'h264', 'profile': '(Main)', 'metadata': {'Metadata': '', 'creation_time': '2019-09-16T08:50:45.000000Z', 'handler_name': 'ISO Media file produced by Google Inc. Created on: 09/16/2019.', 'vendor_id': '[0][0][0][0]'}}, {'input_number': 0, 'stream_number': 1, 'stream_type': 'audio', 'language': None, 'default': True, 'fps': 44100, 'bitrate': 128, 'metadata': {'Metadata': '', 'creation_time': '2019-09-16T08:50:45.000000Z', 'handler_name': 'ISO Media file produced by Google Inc. Created on: 09/16/2019.', 'vendor_id': '[0][0][0][0]'}}], 'input_number': 0}], 'duration': 939.73, 'bitrate': 374, 'start': 0.0, 'default_video_input_number': 0, 'default_video_stream_number': 0, 'video_codec_name': 'h264', 'video_profile': '(Main)', 'video_size': [640, 360], 'video_bitrate': 243, 'video_fps': 25.0, 'default_audio_input_number': 0, 'default_audio_stream_number': 1, 'audio_fps': 44100, 'audio_bitrate': 128, 'video_duration': 939.73, 'video_n_frames': 23493}\n",
            "/hpc/home/jj277/.local/lib/python3.9/site-packages/imageio_ffmpeg/binaries/ffmpeg-linux-x86_64-v7.0.2 -i ./dataset/videos/01Bl9ZlR7KI_full.mp4 -loglevel error -f image2pipe -vf scale=640:360 -sws_flags bicubic -pix_fmt rgb24 -vcodec rawvideo -\n",
            "{'video_found': True, 'audio_found': True, 'metadata': {'major_brand': 'mp42', 'minor_version': '0', 'compatible_brands': 'isommp42', 'creation_time': '2019-09-16T08:50:45.000000Z'}, 'inputs': [{'streams': [{'input_number': 0, 'stream_number': 0, 'stream_type': 'video', 'language': None, 'default': True, 'size': [640, 360], 'bitrate': 243, 'fps': 25.0, 'codec_name': 'h264', 'profile': '(Main)', 'metadata': {'Metadata': '', 'creation_time': '2019-09-16T08:50:45.000000Z', 'handler_name': 'ISO Media file produced by Google Inc. Created on: 09/16/2019.', 'vendor_id': '[0][0][0][0]'}}, {'input_number': 0, 'stream_number': 1, 'stream_type': 'audio', 'language': None, 'default': True, 'fps': 44100, 'bitrate': 128, 'metadata': {'Metadata': '', 'creation_time': '2019-09-16T08:50:45.000000Z', 'handler_name': 'ISO Media file produced by Google Inc. Created on: 09/16/2019.', 'vendor_id': '[0][0][0][0]'}}], 'input_number': 0}], 'duration': 939.73, 'bitrate': 374, 'start': 0.0, 'default_video_input_number': 0, 'default_video_stream_number': 0, 'video_codec_name': 'h264', 'video_profile': '(Main)', 'video_size': [640, 360], 'video_bitrate': 243, 'video_fps': 25.0, 'default_audio_input_number': 0, 'default_audio_stream_number': 1, 'audio_fps': 44100, 'audio_bitrate': 128, 'video_duration': 939.73, 'video_n_frames': 23493}\n",
            "/hpc/home/jj277/.local/lib/python3.9/site-packages/imageio_ffmpeg/binaries/ffmpeg-linux-x86_64-v7.0.2 -ss 502.000000 -i ./dataset/videos/01Bl9ZlR7KI_full.mp4 -ss 1.000000 -loglevel error -f image2pipe -vf scale=640:360 -sws_flags bicubic -pix_fmt rgb24 -vcodec rawvideo -\n",
            "MoviePy - Building video ./dataset/videos/01Bl9ZlR7KI.mp4.\n",
            "MoviePy - Writing audio in 01Bl9ZlR7KITEMP_MPY_wvf_snd.mp4\n"
          ]
        },
        {
          "name": "stderr",
          "output_type": "stream",
          "text": [
            "                                                                   \r"
          ]
        },
        {
          "name": "stdout",
          "output_type": "stream",
          "text": [
            "MoviePy - Done.\n",
            "MoviePy - Writing video ./dataset/videos/01Bl9ZlR7KI.mp4\n",
            "\n"
          ]
        },
        {
          "name": "stderr",
          "output_type": "stream",
          "text": [
            "                                                                         \r"
          ]
        },
        {
          "name": "stdout",
          "output_type": "stream",
          "text": [
            "MoviePy - Done !\n",
            "MoviePy - video ready ./dataset/videos/01Bl9ZlR7KI.mp4\n",
            "Done: 01Bl9ZlR7KI\n",
            "Processing 01DJUnoCwk0 at row 4223...\n",
            "{'video_found': True, 'audio_found': True, 'metadata': {'major_brand': 'mp42', 'minor_version': '0', 'compatible_brands': 'isommp42', 'creation_time': '2024-03-04T04:23:39.000000Z'}, 'inputs': [{'streams': [{'input_number': 0, 'stream_number': 0, 'stream_type': 'video', 'language': None, 'default': True, 'size': [640, 360], 'bitrate': 173, 'fps': 29.97002997002997, 'codec_name': 'h264', 'profile': '(Main)', 'metadata': {'Metadata': '', 'creation_time': '2024-03-04T04:23:39.000000Z', 'handler_name': 'ISO Media file produced by Google Inc. Created on: 03/03/2024.', 'vendor_id': '[0][0][0][0]'}}, {'input_number': 0, 'stream_number': 1, 'stream_type': 'audio', 'language': None, 'default': True, 'fps': 44100, 'bitrate': 128, 'metadata': {'Metadata': '', 'creation_time': '2024-03-04T04:23:39.000000Z', 'handler_name': 'ISO Media file produced by Google Inc. Created on: 03/03/2024.', 'vendor_id': '[0][0][0][0]'}}], 'input_number': 0}], 'duration': 219.89, 'bitrate': 305, 'start': 0.0, 'default_video_input_number': 0, 'default_video_stream_number': 0, 'video_codec_name': 'h264', 'video_profile': '(Main)', 'video_size': [640, 360], 'video_bitrate': 173, 'video_fps': 29.97002997002997, 'default_audio_input_number': 0, 'default_audio_stream_number': 1, 'audio_fps': 44100, 'audio_bitrate': 128, 'video_duration': 219.89, 'video_n_frames': 6590}\n",
            "/hpc/home/jj277/.local/lib/python3.9/site-packages/imageio_ffmpeg/binaries/ffmpeg-linux-x86_64-v7.0.2 -i ./dataset/videos/01DJUnoCwk0_full.mp4 -loglevel error -f image2pipe -vf scale=640:360 -sws_flags bicubic -pix_fmt rgb24 -vcodec rawvideo -\n",
            "{'video_found': True, 'audio_found': True, 'metadata': {'major_brand': 'mp42', 'minor_version': '0', 'compatible_brands': 'isommp42', 'creation_time': '2024-03-04T04:23:39.000000Z'}, 'inputs': [{'streams': [{'input_number': 0, 'stream_number': 0, 'stream_type': 'video', 'language': None, 'default': True, 'size': [640, 360], 'bitrate': 173, 'fps': 29.97002997002997, 'codec_name': 'h264', 'profile': '(Main)', 'metadata': {'Metadata': '', 'creation_time': '2024-03-04T04:23:39.000000Z', 'handler_name': 'ISO Media file produced by Google Inc. Created on: 03/03/2024.', 'vendor_id': '[0][0][0][0]'}}, {'input_number': 0, 'stream_number': 1, 'stream_type': 'audio', 'language': None, 'default': True, 'fps': 44100, 'bitrate': 128, 'metadata': {'Metadata': '', 'creation_time': '2024-03-04T04:23:39.000000Z', 'handler_name': 'ISO Media file produced by Google Inc. Created on: 03/03/2024.', 'vendor_id': '[0][0][0][0]'}}], 'input_number': 0}], 'duration': 219.89, 'bitrate': 305, 'start': 0.0, 'default_video_input_number': 0, 'default_video_stream_number': 0, 'video_codec_name': 'h264', 'video_profile': '(Main)', 'video_size': [640, 360], 'video_bitrate': 173, 'video_fps': 29.97002997002997, 'default_audio_input_number': 0, 'default_audio_stream_number': 1, 'audio_fps': 44100, 'audio_bitrate': 128, 'video_duration': 219.89, 'video_n_frames': 6590}\n",
            "/hpc/home/jj277/.local/lib/python3.9/site-packages/imageio_ffmpeg/binaries/ffmpeg-linux-x86_64-v7.0.2 -ss 43.000000 -i ./dataset/videos/01DJUnoCwk0_full.mp4 -ss 1.000000 -loglevel error -f image2pipe -vf scale=640:360 -sws_flags bicubic -pix_fmt rgb24 -vcodec rawvideo -\n",
            "MoviePy - Building video ./dataset/videos/01DJUnoCwk0.mp4.\n",
            "MoviePy - Writing audio in 01DJUnoCwk0TEMP_MPY_wvf_snd.mp4\n"
          ]
        },
        {
          "name": "stderr",
          "output_type": "stream",
          "text": [
            "                                                                   \r"
          ]
        },
        {
          "name": "stdout",
          "output_type": "stream",
          "text": [
            "MoviePy - Done.\n",
            "MoviePy - Writing video ./dataset/videos/01DJUnoCwk0.mp4\n",
            "\n"
          ]
        },
        {
          "name": "stderr",
          "output_type": "stream",
          "text": [
            "                                                                        \r"
          ]
        },
        {
          "name": "stdout",
          "output_type": "stream",
          "text": [
            "MoviePy - Done !\n",
            "MoviePy - video ready ./dataset/videos/01DJUnoCwk0.mp4\n",
            "Done: 01DJUnoCwk0\n",
            "Processing 01EtjUk6KFw at row 4224...\n",
            "{'video_found': True, 'audio_found': True, 'metadata': {'major_brand': 'mp42', 'minor_version': '0', 'compatible_brands': 'isommp42', 'encoder': 'Google'}, 'inputs': [{'streams': [{'input_number': 0, 'stream_number': 0, 'stream_type': 'video', 'language': None, 'default': True, 'size': [640, 360], 'bitrate': 323, 'fps': 30.0, 'codec_name': 'h264', 'profile': '(Main)', 'metadata': {'Metadata': '', 'handler_name': 'ISO Media file produced by Google Inc.', 'vendor_id': '[0][0][0][0]'}}, {'input_number': 0, 'stream_number': 1, 'stream_type': 'audio', 'language': None, 'default': True, 'fps': 44100, 'bitrate': 95, 'metadata': {'Metadata': '', 'handler_name': 'ISO Media file produced by Google Inc.', 'vendor_id': '[0][0][0][0]'}}], 'input_number': 0}], 'duration': 400.43, 'bitrate': 421, 'start': 0.0, 'default_video_input_number': 0, 'default_video_stream_number': 0, 'video_codec_name': 'h264', 'video_profile': '(Main)', 'video_size': [640, 360], 'video_bitrate': 323, 'video_fps': 30.0, 'default_audio_input_number': 0, 'default_audio_stream_number': 1, 'audio_fps': 44100, 'audio_bitrate': 95, 'video_duration': 400.43, 'video_n_frames': 12012}\n",
            "/hpc/home/jj277/.local/lib/python3.9/site-packages/imageio_ffmpeg/binaries/ffmpeg-linux-x86_64-v7.0.2 -i ./dataset/videos/01EtjUk6KFw_full.mp4 -loglevel error -f image2pipe -vf scale=640:360 -sws_flags bicubic -pix_fmt rgb24 -vcodec rawvideo -\n",
            "{'video_found': True, 'audio_found': True, 'metadata': {'major_brand': 'mp42', 'minor_version': '0', 'compatible_brands': 'isommp42', 'encoder': 'Google'}, 'inputs': [{'streams': [{'input_number': 0, 'stream_number': 0, 'stream_type': 'video', 'language': None, 'default': True, 'size': [640, 360], 'bitrate': 323, 'fps': 30.0, 'codec_name': 'h264', 'profile': '(Main)', 'metadata': {'Metadata': '', 'handler_name': 'ISO Media file produced by Google Inc.', 'vendor_id': '[0][0][0][0]'}}, {'input_number': 0, 'stream_number': 1, 'stream_type': 'audio', 'language': None, 'default': True, 'fps': 44100, 'bitrate': 95, 'metadata': {'Metadata': '', 'handler_name': 'ISO Media file produced by Google Inc.', 'vendor_id': '[0][0][0][0]'}}], 'input_number': 0}], 'duration': 400.43, 'bitrate': 421, 'start': 0.0, 'default_video_input_number': 0, 'default_video_stream_number': 0, 'video_codec_name': 'h264', 'video_profile': '(Main)', 'video_size': [640, 360], 'video_bitrate': 323, 'video_fps': 30.0, 'default_audio_input_number': 0, 'default_audio_stream_number': 1, 'audio_fps': 44100, 'audio_bitrate': 95, 'video_duration': 400.43, 'video_n_frames': 12012}\n",
            "/hpc/home/jj277/.local/lib/python3.9/site-packages/imageio_ffmpeg/binaries/ffmpeg-linux-x86_64-v7.0.2 -ss 29.000000 -i ./dataset/videos/01EtjUk6KFw_full.mp4 -ss 1.000000 -loglevel error -f image2pipe -vf scale=640:360 -sws_flags bicubic -pix_fmt rgb24 -vcodec rawvideo -\n",
            "MoviePy - Building video ./dataset/videos/01EtjUk6KFw.mp4.\n",
            "MoviePy - Writing audio in 01EtjUk6KFwTEMP_MPY_wvf_snd.mp4\n"
          ]
        },
        {
          "name": "stderr",
          "output_type": "stream",
          "text": [
            "                                                                   \r"
          ]
        },
        {
          "name": "stdout",
          "output_type": "stream",
          "text": [
            "MoviePy - Done.\n",
            "MoviePy - Writing video ./dataset/videos/01EtjUk6KFw.mp4\n",
            "\n"
          ]
        },
        {
          "name": "stderr",
          "output_type": "stream",
          "text": [
            "                                                                         \r"
          ]
        },
        {
          "name": "stdout",
          "output_type": "stream",
          "text": [
            "MoviePy - Done !\n",
            "MoviePy - video ready ./dataset/videos/01EtjUk6KFw.mp4\n",
            "Done: 01EtjUk6KFw\n",
            "Processing 01GR5c7dSNo at row 4225...\n",
            "{'video_found': True, 'audio_found': True, 'metadata': {'major_brand': 'mp42', 'minor_version': '0', 'compatible_brands': 'isommp42', 'creation_time': '2024-08-22T06:27:51.000000Z', 'encoder': 'Google'}, 'inputs': [{'streams': [{'input_number': 0, 'stream_number': 0, 'stream_type': 'video', 'language': None, 'default': True, 'size': [202, 360], 'bitrate': 197, 'fps': 29.54, 'codec_name': 'h264', 'profile': '(Main)', 'metadata': {'Metadata': '', 'creation_time': '2024-08-22T06:27:51.000000Z', 'handler_name': 'ISO Media file produced by Google Inc. Created on: 08/21/2024.', 'vendor_id': '[0][0][0][0]'}}, {'input_number': 0, 'stream_number': 1, 'stream_type': 'audio', 'language': 'eng', 'default': True, 'fps': 44100, 'bitrate': 128, 'metadata': {'Metadata': '', 'creation_time': '2024-08-22T06:27:51.000000Z', 'handler_name': 'ISO Media file produced by Google Inc. Created on: 08/21/2024.', 'vendor_id': '[0][0][0][0]'}}], 'input_number': 0}], 'duration': 66.97, 'bitrate': 329, 'start': 0.0, 'default_video_input_number': 0, 'default_video_stream_number': 0, 'video_codec_name': 'h264', 'video_profile': '(Main)', 'video_size': [202, 360], 'video_bitrate': 197, 'video_fps': 29.54, 'default_audio_input_number': 0, 'default_audio_stream_number': 1, 'audio_fps': 44100, 'audio_bitrate': 128, 'video_duration': 66.97, 'video_n_frames': 1978}\n",
            "/hpc/home/jj277/.local/lib/python3.9/site-packages/imageio_ffmpeg/binaries/ffmpeg-linux-x86_64-v7.0.2 -i ./dataset/videos/01GR5c7dSNo_full.mp4 -loglevel error -f image2pipe -vf scale=202:360 -sws_flags bicubic -pix_fmt rgb24 -vcodec rawvideo -\n",
            "{'video_found': True, 'audio_found': True, 'metadata': {'major_brand': 'mp42', 'minor_version': '0', 'compatible_brands': 'isommp42', 'creation_time': '2024-08-22T06:27:51.000000Z', 'encoder': 'Google'}, 'inputs': [{'streams': [{'input_number': 0, 'stream_number': 0, 'stream_type': 'video', 'language': None, 'default': True, 'size': [202, 360], 'bitrate': 197, 'fps': 29.54, 'codec_name': 'h264', 'profile': '(Main)', 'metadata': {'Metadata': '', 'creation_time': '2024-08-22T06:27:51.000000Z', 'handler_name': 'ISO Media file produced by Google Inc. Created on: 08/21/2024.', 'vendor_id': '[0][0][0][0]'}}, {'input_number': 0, 'stream_number': 1, 'stream_type': 'audio', 'language': 'eng', 'default': True, 'fps': 44100, 'bitrate': 128, 'metadata': {'Metadata': '', 'creation_time': '2024-08-22T06:27:51.000000Z', 'handler_name': 'ISO Media file produced by Google Inc. Created on: 08/21/2024.', 'vendor_id': '[0][0][0][0]'}}], 'input_number': 0}], 'duration': 66.97, 'bitrate': 329, 'start': 0.0, 'default_video_input_number': 0, 'default_video_stream_number': 0, 'video_codec_name': 'h264', 'video_profile': '(Main)', 'video_size': [202, 360], 'video_bitrate': 197, 'video_fps': 29.54, 'default_audio_input_number': 0, 'default_audio_stream_number': 1, 'audio_fps': 44100, 'audio_bitrate': 128, 'video_duration': 66.97, 'video_n_frames': 1978}\n",
            "/hpc/home/jj277/.local/lib/python3.9/site-packages/imageio_ffmpeg/binaries/ffmpeg-linux-x86_64-v7.0.2 -ss 7.000000 -i ./dataset/videos/01GR5c7dSNo_full.mp4 -ss 1.000000 -loglevel error -f image2pipe -vf scale=202:360 -sws_flags bicubic -pix_fmt rgb24 -vcodec rawvideo -\n",
            "MoviePy - Building video ./dataset/videos/01GR5c7dSNo.mp4.\n",
            "MoviePy - Writing audio in 01GR5c7dSNoTEMP_MPY_wvf_snd.mp4\n"
          ]
        },
        {
          "name": "stderr",
          "output_type": "stream",
          "text": [
            "                                                                   \r"
          ]
        },
        {
          "name": "stdout",
          "output_type": "stream",
          "text": [
            "MoviePy - Done.\n",
            "MoviePy - Writing video ./dataset/videos/01GR5c7dSNo.mp4\n",
            "\n"
          ]
        },
        {
          "name": "stderr",
          "output_type": "stream",
          "text": [
            "                                                                         \r"
          ]
        },
        {
          "name": "stdout",
          "output_type": "stream",
          "text": [
            "MoviePy - Done !\n",
            "MoviePy - video ready ./dataset/videos/01GR5c7dSNo.mp4\n",
            "Done: 01GR5c7dSNo\n",
            "Processing 01GR5c7dSNo at row 4226...\n",
            "{'video_found': True, 'audio_found': True, 'metadata': {'major_brand': 'mp42', 'minor_version': '0', 'compatible_brands': 'isommp42', 'creation_time': '2024-08-22T06:27:51.000000Z', 'encoder': 'Google'}, 'inputs': [{'streams': [{'input_number': 0, 'stream_number': 0, 'stream_type': 'video', 'language': None, 'default': True, 'size': [202, 360], 'bitrate': 197, 'fps': 29.54, 'codec_name': 'h264', 'profile': '(Main)', 'metadata': {'Metadata': '', 'creation_time': '2024-08-22T06:27:51.000000Z', 'handler_name': 'ISO Media file produced by Google Inc. Created on: 08/21/2024.', 'vendor_id': '[0][0][0][0]'}}, {'input_number': 0, 'stream_number': 1, 'stream_type': 'audio', 'language': 'eng', 'default': True, 'fps': 44100, 'bitrate': 128, 'metadata': {'Metadata': '', 'creation_time': '2024-08-22T06:27:51.000000Z', 'handler_name': 'ISO Media file produced by Google Inc. Created on: 08/21/2024.', 'vendor_id': '[0][0][0][0]'}}], 'input_number': 0}], 'duration': 66.97, 'bitrate': 329, 'start': 0.0, 'default_video_input_number': 0, 'default_video_stream_number': 0, 'video_codec_name': 'h264', 'video_profile': '(Main)', 'video_size': [202, 360], 'video_bitrate': 197, 'video_fps': 29.54, 'default_audio_input_number': 0, 'default_audio_stream_number': 1, 'audio_fps': 44100, 'audio_bitrate': 128, 'video_duration': 66.97, 'video_n_frames': 1978}\n",
            "/hpc/home/jj277/.local/lib/python3.9/site-packages/imageio_ffmpeg/binaries/ffmpeg-linux-x86_64-v7.0.2 -i ./dataset/videos/01GR5c7dSNo_full.mp4 -loglevel error -f image2pipe -vf scale=202:360 -sws_flags bicubic -pix_fmt rgb24 -vcodec rawvideo -\n",
            "{'video_found': True, 'audio_found': True, 'metadata': {'major_brand': 'mp42', 'minor_version': '0', 'compatible_brands': 'isommp42', 'creation_time': '2024-08-22T06:27:51.000000Z', 'encoder': 'Google'}, 'inputs': [{'streams': [{'input_number': 0, 'stream_number': 0, 'stream_type': 'video', 'language': None, 'default': True, 'size': [202, 360], 'bitrate': 197, 'fps': 29.54, 'codec_name': 'h264', 'profile': '(Main)', 'metadata': {'Metadata': '', 'creation_time': '2024-08-22T06:27:51.000000Z', 'handler_name': 'ISO Media file produced by Google Inc. Created on: 08/21/2024.', 'vendor_id': '[0][0][0][0]'}}, {'input_number': 0, 'stream_number': 1, 'stream_type': 'audio', 'language': 'eng', 'default': True, 'fps': 44100, 'bitrate': 128, 'metadata': {'Metadata': '', 'creation_time': '2024-08-22T06:27:51.000000Z', 'handler_name': 'ISO Media file produced by Google Inc. Created on: 08/21/2024.', 'vendor_id': '[0][0][0][0]'}}], 'input_number': 0}], 'duration': 66.97, 'bitrate': 329, 'start': 0.0, 'default_video_input_number': 0, 'default_video_stream_number': 0, 'video_codec_name': 'h264', 'video_profile': '(Main)', 'video_size': [202, 360], 'video_bitrate': 197, 'video_fps': 29.54, 'default_audio_input_number': 0, 'default_audio_stream_number': 1, 'audio_fps': 44100, 'audio_bitrate': 128, 'video_duration': 66.97, 'video_n_frames': 1978}\n",
            "/hpc/home/jj277/.local/lib/python3.9/site-packages/imageio_ffmpeg/binaries/ffmpeg-linux-x86_64-v7.0.2 -ss 21.000000 -i ./dataset/videos/01GR5c7dSNo_full.mp4 -ss 1.000000 -loglevel error -f image2pipe -vf scale=202:360 -sws_flags bicubic -pix_fmt rgb24 -vcodec rawvideo -\n",
            "MoviePy - Building video ./dataset/videos/01GR5c7dSNo.mp4.\n",
            "MoviePy - Writing audio in 01GR5c7dSNoTEMP_MPY_wvf_snd.mp4\n"
          ]
        },
        {
          "name": "stderr",
          "output_type": "stream",
          "text": [
            "                                                                   \r"
          ]
        },
        {
          "name": "stdout",
          "output_type": "stream",
          "text": [
            "MoviePy - Done.\n",
            "MoviePy - Writing video ./dataset/videos/01GR5c7dSNo.mp4\n",
            "\n"
          ]
        },
        {
          "name": "stderr",
          "output_type": "stream",
          "text": [
            "                                                                         \r"
          ]
        },
        {
          "name": "stdout",
          "output_type": "stream",
          "text": [
            "MoviePy - Done !\n",
            "MoviePy - video ready ./dataset/videos/01GR5c7dSNo.mp4\n",
            "Done: 01GR5c7dSNo\n",
            "Processing 01IRLV4c-4c at row 4227...\n"
          ]
        },
        {
          "name": "stderr",
          "output_type": "stream",
          "text": [
            "ERROR: [youtube] 01IRLV4c-4c: Sign in to confirm you’re not a bot. Use --cookies-from-browser or --cookies for the authentication. See  https://github.com/yt-dlp/yt-dlp/wiki/FAQ#how-do-i-pass-cookies-to-yt-dlp  for how to manually pass cookies. Also see  https://github.com/yt-dlp/yt-dlp/wiki/Extractors#exporting-youtube-cookies  for tips on effectively exporting YouTube cookies\n"
          ]
        },
        {
          "name": "stdout",
          "output_type": "stream",
          "text": [
            "Error processing row 4227: ERROR: [youtube] 01IRLV4c-4c: Sign in to confirm you’re not a bot. Use --cookies-from-browser or --cookies for the authentication. See  https://github.com/yt-dlp/yt-dlp/wiki/FAQ#how-do-i-pass-cookies-to-yt-dlp  for how to manually pass cookies. Also see  https://github.com/yt-dlp/yt-dlp/wiki/Extractors#exporting-youtube-cookies  for tips on effectively exporting YouTube cookies\n",
            "Processing 01Iho7loxL0 at row 4228...\n",
            "{'video_found': True, 'audio_found': True, 'metadata': {'major_brand': 'mp42', 'minor_version': '0', 'compatible_brands': 'isommp42', 'encoder': 'Google'}, 'inputs': [{'streams': [{'input_number': 0, 'stream_number': 0, 'stream_type': 'video', 'language': None, 'default': True, 'size': [640, 360], 'bitrate': 340, 'fps': 30.0, 'codec_name': 'h264', 'profile': '(Main)', 'metadata': {'Metadata': '', 'handler_name': 'ISO Media file produced by Google Inc.', 'vendor_id': '[0][0][0][0]'}}, {'input_number': 0, 'stream_number': 1, 'stream_type': 'audio', 'language': None, 'default': True, 'fps': 44100, 'bitrate': 95, 'metadata': {'Metadata': '', 'handler_name': 'ISO Media file produced by Google Inc.', 'vendor_id': '[0][0][0][0]'}}], 'input_number': 0}], 'duration': 52.48, 'bitrate': 437, 'start': 0.0, 'default_video_input_number': 0, 'default_video_stream_number': 0, 'video_codec_name': 'h264', 'video_profile': '(Main)', 'video_size': [640, 360], 'video_bitrate': 340, 'video_fps': 30.0, 'default_audio_input_number': 0, 'default_audio_stream_number': 1, 'audio_fps': 44100, 'audio_bitrate': 95, 'video_duration': 52.48, 'video_n_frames': 1574}\n",
            "/hpc/home/jj277/.local/lib/python3.9/site-packages/imageio_ffmpeg/binaries/ffmpeg-linux-x86_64-v7.0.2 -i ./dataset/videos/01Iho7loxL0_full.mp4 -loglevel error -f image2pipe -vf scale=640:360 -sws_flags bicubic -pix_fmt rgb24 -vcodec rawvideo -\n",
            "{'video_found': True, 'audio_found': True, 'metadata': {'major_brand': 'mp42', 'minor_version': '0', 'compatible_brands': 'isommp42', 'encoder': 'Google'}, 'inputs': [{'streams': [{'input_number': 0, 'stream_number': 0, 'stream_type': 'video', 'language': None, 'default': True, 'size': [640, 360], 'bitrate': 340, 'fps': 30.0, 'codec_name': 'h264', 'profile': '(Main)', 'metadata': {'Metadata': '', 'handler_name': 'ISO Media file produced by Google Inc.', 'vendor_id': '[0][0][0][0]'}}, {'input_number': 0, 'stream_number': 1, 'stream_type': 'audio', 'language': None, 'default': True, 'fps': 44100, 'bitrate': 95, 'metadata': {'Metadata': '', 'handler_name': 'ISO Media file produced by Google Inc.', 'vendor_id': '[0][0][0][0]'}}], 'input_number': 0}], 'duration': 52.48, 'bitrate': 437, 'start': 0.0, 'default_video_input_number': 0, 'default_video_stream_number': 0, 'video_codec_name': 'h264', 'video_profile': '(Main)', 'video_size': [640, 360], 'video_bitrate': 340, 'video_fps': 30.0, 'default_audio_input_number': 0, 'default_audio_stream_number': 1, 'audio_fps': 44100, 'audio_bitrate': 95, 'video_duration': 52.48, 'video_n_frames': 1574}\n",
            "/hpc/home/jj277/.local/lib/python3.9/site-packages/imageio_ffmpeg/binaries/ffmpeg-linux-x86_64-v7.0.2 -ss 14.000000 -i ./dataset/videos/01Iho7loxL0_full.mp4 -ss 1.000000 -loglevel error -f image2pipe -vf scale=640:360 -sws_flags bicubic -pix_fmt rgb24 -vcodec rawvideo -\n",
            "MoviePy - Building video ./dataset/videos/01Iho7loxL0.mp4.\n",
            "MoviePy - Writing audio in 01Iho7loxL0TEMP_MPY_wvf_snd.mp4\n"
          ]
        },
        {
          "name": "stderr",
          "output_type": "stream",
          "text": [
            "                                                                   \r"
          ]
        },
        {
          "name": "stdout",
          "output_type": "stream",
          "text": [
            "MoviePy - Done.\n",
            "MoviePy - Writing video ./dataset/videos/01Iho7loxL0.mp4\n",
            "\n"
          ]
        },
        {
          "name": "stderr",
          "output_type": "stream",
          "text": [
            "                                                                         \r"
          ]
        },
        {
          "name": "stdout",
          "output_type": "stream",
          "text": [
            "MoviePy - Done !\n",
            "MoviePy - video ready ./dataset/videos/01Iho7loxL0.mp4\n",
            "Done: 01Iho7loxL0\n",
            "Processing 01Jxsfxi1r4 at row 4229...\n",
            "{'video_found': True, 'audio_found': True, 'metadata': {'major_brand': 'mp42', 'minor_version': '0', 'compatible_brands': 'isommp42', 'creation_time': '2024-03-04T05:03:55.000000Z'}, 'inputs': [{'streams': [{'input_number': 0, 'stream_number': 0, 'stream_type': 'video', 'language': None, 'default': True, 'size': [640, 360], 'bitrate': 205, 'fps': 29.97002997002997, 'codec_name': 'h264', 'profile': '(Main)', 'metadata': {'Metadata': '', 'creation_time': '2024-03-04T05:03:55.000000Z', 'handler_name': 'ISO Media file produced by Google Inc. Created on: 03/03/2024.', 'vendor_id': '[0][0][0][0]'}}, {'input_number': 0, 'stream_number': 1, 'stream_type': 'audio', 'language': 'eng', 'default': True, 'fps': 44100, 'bitrate': 127, 'metadata': {'Metadata': '', 'creation_time': '2024-03-04T05:03:55.000000Z', 'handler_name': 'ISO Media file produced by Google Inc. Created on: 03/03/2024.', 'vendor_id': '[0][0][0][0]'}}], 'input_number': 0}], 'duration': 48.99, 'bitrate': 337, 'start': 0.0, 'default_video_input_number': 0, 'default_video_stream_number': 0, 'video_codec_name': 'h264', 'video_profile': '(Main)', 'video_size': [640, 360], 'video_bitrate': 205, 'video_fps': 29.97002997002997, 'default_audio_input_number': 0, 'default_audio_stream_number': 1, 'audio_fps': 44100, 'audio_bitrate': 127, 'video_duration': 48.99, 'video_n_frames': 1468}\n",
            "/hpc/home/jj277/.local/lib/python3.9/site-packages/imageio_ffmpeg/binaries/ffmpeg-linux-x86_64-v7.0.2 -i ./dataset/videos/01Jxsfxi1r4_full.mp4 -loglevel error -f image2pipe -vf scale=640:360 -sws_flags bicubic -pix_fmt rgb24 -vcodec rawvideo -\n",
            "{'video_found': True, 'audio_found': True, 'metadata': {'major_brand': 'mp42', 'minor_version': '0', 'compatible_brands': 'isommp42', 'creation_time': '2024-03-04T05:03:55.000000Z'}, 'inputs': [{'streams': [{'input_number': 0, 'stream_number': 0, 'stream_type': 'video', 'language': None, 'default': True, 'size': [640, 360], 'bitrate': 205, 'fps': 29.97002997002997, 'codec_name': 'h264', 'profile': '(Main)', 'metadata': {'Metadata': '', 'creation_time': '2024-03-04T05:03:55.000000Z', 'handler_name': 'ISO Media file produced by Google Inc. Created on: 03/03/2024.', 'vendor_id': '[0][0][0][0]'}}, {'input_number': 0, 'stream_number': 1, 'stream_type': 'audio', 'language': 'eng', 'default': True, 'fps': 44100, 'bitrate': 127, 'metadata': {'Metadata': '', 'creation_time': '2024-03-04T05:03:55.000000Z', 'handler_name': 'ISO Media file produced by Google Inc. Created on: 03/03/2024.', 'vendor_id': '[0][0][0][0]'}}], 'input_number': 0}], 'duration': 48.99, 'bitrate': 337, 'start': 0.0, 'default_video_input_number': 0, 'default_video_stream_number': 0, 'video_codec_name': 'h264', 'video_profile': '(Main)', 'video_size': [640, 360], 'video_bitrate': 205, 'video_fps': 29.97002997002997, 'default_audio_input_number': 0, 'default_audio_stream_number': 1, 'audio_fps': 44100, 'audio_bitrate': 127, 'video_duration': 48.99, 'video_n_frames': 1468}\n",
            "/hpc/home/jj277/.local/lib/python3.9/site-packages/imageio_ffmpeg/binaries/ffmpeg-linux-x86_64-v7.0.2 -ss 9.000000 -i ./dataset/videos/01Jxsfxi1r4_full.mp4 -ss 1.000000 -loglevel error -f image2pipe -vf scale=640:360 -sws_flags bicubic -pix_fmt rgb24 -vcodec rawvideo -\n",
            "MoviePy - Building video ./dataset/videos/01Jxsfxi1r4.mp4.\n",
            "MoviePy - Writing audio in 01Jxsfxi1r4TEMP_MPY_wvf_snd.mp4\n"
          ]
        },
        {
          "name": "stderr",
          "output_type": "stream",
          "text": [
            "                                                                   \r"
          ]
        },
        {
          "name": "stdout",
          "output_type": "stream",
          "text": [
            "MoviePy - Done.\n",
            "MoviePy - Writing video ./dataset/videos/01Jxsfxi1r4.mp4\n",
            "\n"
          ]
        },
        {
          "name": "stderr",
          "output_type": "stream",
          "text": [
            "                                                                         \r"
          ]
        },
        {
          "name": "stdout",
          "output_type": "stream",
          "text": [
            "MoviePy - Done !\n",
            "MoviePy - video ready ./dataset/videos/01Jxsfxi1r4.mp4\n",
            "Done: 01Jxsfxi1r4\n",
            "Processing 01LPFe-13Aw at row 4230...\n"
          ]
        },
        {
          "name": "stderr",
          "output_type": "stream",
          "text": [
            "ERROR: [youtube] 01LPFe-13Aw: Private video. Sign in if you've been granted access to this video. Use --cookies-from-browser or --cookies for the authentication. See  https://github.com/yt-dlp/yt-dlp/wiki/FAQ#how-do-i-pass-cookies-to-yt-dlp  for how to manually pass cookies. Also see  https://github.com/yt-dlp/yt-dlp/wiki/Extractors#exporting-youtube-cookies  for tips on effectively exporting YouTube cookies\n"
          ]
        },
        {
          "name": "stdout",
          "output_type": "stream",
          "text": [
            "Error processing row 4230: ERROR: [youtube] 01LPFe-13Aw: Private video. Sign in if you've been granted access to this video. Use --cookies-from-browser or --cookies for the authentication. See  https://github.com/yt-dlp/yt-dlp/wiki/FAQ#how-do-i-pass-cookies-to-yt-dlp  for how to manually pass cookies. Also see  https://github.com/yt-dlp/yt-dlp/wiki/Extractors#exporting-youtube-cookies  for tips on effectively exporting YouTube cookies\n",
            "Processing 01MWUU_A6bk at row 4231...\n",
            "[download]  45.5% of   65.69MiB at    1.73MiB/s ETA 00:20  "
          ]
        }
      ],
      "source": [
        "import os\n",
        "import csv\n",
        "import subprocess\n",
        "import librosa\n",
        "import matplotlib.pyplot as plt\n",
        "import numpy as np\n",
        "import cv2\n",
        "from moviepy import VideoFileClip\n",
        "from yt_dlp import YoutubeDL\n",
        "\n",
        "csv_file = \"./vggsound.csv\"\n",
        "output_dir = \"./dataset\"\n",
        "video_dir = os.path.join(output_dir, \"videos\")\n",
        "frame_dir = os.path.join(output_dir, \"images\")\n",
        "spec_dir = os.path.join(output_dir, \"specs\")\n",
        "duration = 10\n",
        "sample_count = 10000\n",
        "sr = 22050\n",
        "img_size = 512\n",
        "\n",
        "# os.makedirs(video_dir, exist_ok=True)\n",
        "# os.makedirs(frame_dir, exist_ok=True)\n",
        "# os.makedirs(spec_dir, exist_ok=True)\n",
        "\n",
        "def download_clip(youtube_id, start_time, duration=10):\n",
        "    url = f\"https://www.youtube.com/watch?v={youtube_id}\"\n",
        "    temp_path = os.path.join(video_dir, f\"{youtube_id}_full.mp4\")\n",
        "    clip_path = os.path.join(video_dir, f\"{youtube_id}.mp4\")\n",
        "\n",
        "    ydl_opts = {'format': 'mp4', 'outtmpl': temp_path, 'quiet': True}\n",
        "    with YoutubeDL(ydl_opts) as ydl:\n",
        "        ydl.download([url])\n",
        "\n",
        "    with VideoFileClip(temp_path) as video:\n",
        "        subclip = video.subclipped(start_time, start_time + duration)\n",
        "        subclip.write_videofile(clip_path, codec=\"libx264\", audio_codec=\"aac\")\n",
        "\n",
        "    os.remove(temp_path)\n",
        "    return clip_path\n",
        "\n",
        "def extract_middle_frame(video_path, out_path):\n",
        "    cap = cv2.VideoCapture(video_path)\n",
        "    total = int(cap.get(cv2.CAP_PROP_FRAME_COUNT))\n",
        "    cap.set(cv2.CAP_PROP_POS_FRAMES, total // 2)\n",
        "    success, frame = cap.read()\n",
        "    if success:\n",
        "        frame = cv2.resize(frame, (img_size, img_size))\n",
        "        cv2.imwrite(out_path, frame)\n",
        "    cap.release()\n",
        "    return success\n",
        "\n",
        "def save_mel_spectrogram(video_path, out_path):\n",
        "    y, _ = librosa.load(video_path, sr=sr)\n",
        "    mel = librosa.feature.melspectrogram(y=y, sr=sr, n_mels=128)\n",
        "    log_mel = librosa.power_to_db(mel, ref=np.max)\n",
        "\n",
        "    fig = plt.figure(figsize=(5.12, 5.12), dpi=100)\n",
        "    plt.axis('off')\n",
        "    plt.imshow(log_mel, cmap='magma', aspect='auto')\n",
        "    plt.savefig(out_path, bbox_inches='tight', pad_inches=0)\n",
        "    plt.close(fig)\n",
        "\n",
        "start_index = 4200\n",
        "with open(csv_file) as f:\n",
        "    reader = csv.reader(f)\n",
        "    for i, row in enumerate(reader):\n",
        "        if i < start_index:\n",
        "            continue\n",
        "        if i >= sample_count:\n",
        "            break\n",
        "\n",
        "        try:\n",
        "            ytid = row[0]\n",
        "            start = int(float(row[1]))\n",
        "            label = row[2] if len(row) > 2 else \"unknown\"\n",
        "\n",
        "            print(f\"Processing {ytid} at row {i}...\")\n",
        "\n",
        "            video_path = download_clip(ytid, start)\n",
        "            frame_path = os.path.join(frame_dir, f\"{ytid}.jpg\")\n",
        "            spec_path = os.path.join(spec_dir, f\"{ytid}.png\")\n",
        "\n",
        "            success = extract_middle_frame(video_path, frame_path)\n",
        "            if success:\n",
        "                save_mel_spectrogram(video_path, spec_path)\n",
        "                os.remove(video_path)\n",
        "                print(f\"Done: {ytid}\")\n",
        "            else:\n",
        "                print(f\"Frame extraction failed: {ytid}\")\n",
        "        except Exception as e:\n",
        "            print(f\"Error processing row {i}: {e}\")\n",
        "            continue"
      ]
    },
    {
      "cell_type": "code",
      "execution_count": 5,
      "metadata": {
        "colab": {
          "base_uri": "https://localhost:8080/"
        },
        "id": "dadO_rwZ-PpD",
        "outputId": "f0b3fe02-87f2-4ba3-a237-b9f1467c923b"
      },
      "outputs": [
        {
          "name": "stdout",
          "output_type": "stream",
          "text": [
            "/bin/bash: line 1: apt-get: command not found\n"
          ]
        }
      ],
      "source": [
        "# !pip install -U yt-dlp\n",
        "!apt-get install -y ffmpeg\n",
        "# !pip install soundfile\n",
        "# !pip install librosa\n",
        "# !pip install opencv-python"
      ]
    },
    {
      "cell_type": "code",
      "execution_count": null,
      "metadata": {
        "id": "rqmwky1wAJX_"
      },
      "outputs": [
        {
          "name": "stdout",
          "output_type": "stream",
          "text": [
            "\n"
          ]
        }
      ],
      "source": [
        "# import subprocess\n",
        "# print(subprocess.run([\"which\", \"ffmpeg\"], capture_output=True, text=True).stdout)"
      ]
    },
    {
      "cell_type": "code",
      "execution_count": 2,
      "metadata": {},
      "outputs": [
        {
          "name": "stdout",
          "output_type": "stream",
          "text": [
            "Defaulting to user installation because normal site-packages is not writeable\n",
            "Requirement already satisfied: yt-dlp in /hpc/home/jj277/.local/lib/python3.9/site-packages (2025.3.31)\n",
            "Collecting moviepy\n",
            "  Downloading moviepy-2.1.2-py3-none-any.whl (126 kB)\n",
            "     |████████████████████████████████| 126 kB 2.4 MB/s            \n",
            "\u001b[?25hCollecting imageio-ffmpeg\n",
            "  Downloading imageio_ffmpeg-0.6.0-py3-none-manylinux2014_x86_64.whl (29.5 MB)\n",
            "     |████████████████████████████████| 29.5 MB 21.7 MB/s            �█████████▎      | 23.3 MB 21.7 MB/s eta 0:00:01\n",
            "\u001b[?25hRequirement already satisfied: librosa in /hpc/home/jj277/.local/lib/python3.9/site-packages (0.11.0)\n",
            "Requirement already satisfied: opencv-python in /hpc/home/jj277/.local/lib/python3.9/site-packages (4.11.0.86)\n",
            "Requirement already satisfied: matplotlib in /hpc/home/jj277/.local/lib/python3.9/site-packages (3.9.4)\n",
            "Requirement already satisfied: numpy>=1.25.0 in /hpc/home/jj277/.local/lib/python3.9/site-packages (from moviepy) (2.0.2)\n",
            "Collecting python-dotenv>=0.10\n",
            "  Downloading python_dotenv-1.1.0-py3-none-any.whl (20 kB)\n",
            "Collecting proglog<=1.0.0\n",
            "  Downloading proglog-0.1.11-py3-none-any.whl (7.8 kB)\n",
            "Requirement already satisfied: decorator<6.0,>=4.0.2 in /hpc/home/jj277/.local/lib/python3.9/site-packages (from moviepy) (5.1.1)\n",
            "Collecting imageio<3.0,>=2.5\n",
            "  Downloading imageio-2.37.0-py3-none-any.whl (315 kB)\n",
            "     |████████████████████████████████| 315 kB 102.3 MB/s            \n",
            "\u001b[?25hRequirement already satisfied: pillow<11.0,>=9.2.0 in /hpc/home/jj277/.local/lib/python3.9/site-packages (from moviepy) (10.4.0)\n",
            "Requirement already satisfied: typing_extensions>=4.1.1 in /hpc/home/jj277/.local/lib/python3.9/site-packages (from librosa) (4.12.2)\n",
            "Requirement already satisfied: numba>=0.51.0 in /hpc/home/jj277/.local/lib/python3.9/site-packages (from librosa) (0.60.0)\n",
            "Requirement already satisfied: scikit-learn>=1.1.0 in /hpc/home/jj277/.local/lib/python3.9/site-packages (from librosa) (1.6.1)\n",
            "Requirement already satisfied: joblib>=1.0 in /hpc/home/jj277/.local/lib/python3.9/site-packages (from librosa) (1.4.2)\n",
            "Requirement already satisfied: lazy_loader>=0.1 in /hpc/home/jj277/.local/lib/python3.9/site-packages (from librosa) (0.4)\n",
            "Requirement already satisfied: audioread>=2.1.9 in /hpc/home/jj277/.local/lib/python3.9/site-packages (from librosa) (3.0.1)\n",
            "Requirement already satisfied: pooch>=1.1 in /hpc/home/jj277/.local/lib/python3.9/site-packages (from librosa) (1.8.2)\n",
            "Requirement already satisfied: scipy>=1.6.0 in /hpc/home/jj277/.local/lib/python3.9/site-packages (from librosa) (1.13.1)\n",
            "Requirement already satisfied: soxr>=0.3.2 in /hpc/home/jj277/.local/lib/python3.9/site-packages (from librosa) (0.5.0.post1)\n",
            "Requirement already satisfied: msgpack>=1.0 in /hpc/home/jj277/.local/lib/python3.9/site-packages (from librosa) (1.1.0)\n",
            "Requirement already satisfied: soundfile>=0.12.1 in /hpc/home/jj277/.local/lib/python3.9/site-packages (from librosa) (0.13.1)\n",
            "Requirement already satisfied: importlib-resources>=3.2.0 in /hpc/home/jj277/.local/lib/python3.9/site-packages (from matplotlib) (6.5.2)\n",
            "Requirement already satisfied: cycler>=0.10 in /hpc/home/jj277/.local/lib/python3.9/site-packages (from matplotlib) (0.12.1)\n",
            "Requirement already satisfied: contourpy>=1.0.1 in /hpc/home/jj277/.local/lib/python3.9/site-packages (from matplotlib) (1.3.0)\n",
            "Requirement already satisfied: python-dateutil>=2.7 in /hpc/home/jj277/.local/lib/python3.9/site-packages (from matplotlib) (2.9.0.post0)\n",
            "Requirement already satisfied: kiwisolver>=1.3.1 in /hpc/home/jj277/.local/lib/python3.9/site-packages (from matplotlib) (1.4.7)\n",
            "Requirement already satisfied: pyparsing>=2.3.1 in /usr/lib/python3.9/site-packages (from matplotlib) (2.4.7)\n",
            "Requirement already satisfied: fonttools>=4.22.0 in /hpc/home/jj277/.local/lib/python3.9/site-packages (from matplotlib) (4.55.8)\n",
            "Requirement already satisfied: packaging>=20.0 in /usr/lib/python3.9/site-packages (from matplotlib) (20.9)\n",
            "Requirement already satisfied: zipp>=3.1.0 in /hpc/home/jj277/.local/lib/python3.9/site-packages (from importlib-resources>=3.2.0->matplotlib) (3.20.0)\n",
            "Requirement already satisfied: llvmlite<0.44,>=0.43.0dev0 in /hpc/home/jj277/.local/lib/python3.9/site-packages (from numba>=0.51.0->librosa) (0.43.0)\n",
            "Requirement already satisfied: platformdirs>=2.5.0 in /hpc/home/jj277/.local/lib/python3.9/site-packages (from pooch>=1.1->librosa) (4.2.2)\n",
            "Requirement already satisfied: requests>=2.19.0 in /hpc/home/jj277/.local/lib/python3.9/site-packages (from pooch>=1.1->librosa) (2.32.3)\n",
            "Requirement already satisfied: tqdm in /hpc/home/jj277/.local/lib/python3.9/site-packages (from proglog<=1.0.0->moviepy) (4.67.1)\n",
            "Requirement already satisfied: six>=1.5 in /usr/lib/python3.9/site-packages (from python-dateutil>=2.7->matplotlib) (1.15.0)\n",
            "Requirement already satisfied: threadpoolctl>=3.1.0 in /hpc/home/jj277/.local/lib/python3.9/site-packages (from scikit-learn>=1.1.0->librosa) (3.5.0)\n",
            "Requirement already satisfied: cffi>=1.0 in /usr/lib64/python3.9/site-packages (from soundfile>=0.12.1->librosa) (1.14.5)\n",
            "Requirement already satisfied: pycparser in /usr/lib/python3.9/site-packages (from cffi>=1.0->soundfile>=0.12.1->librosa) (2.20)\n",
            "Requirement already satisfied: certifi>=2017.4.17 in /hpc/home/jj277/.local/lib/python3.9/site-packages (from requests>=2.19.0->pooch>=1.1->librosa) (2025.1.31)\n",
            "Requirement already satisfied: charset-normalizer<4,>=2 in /hpc/home/jj277/.local/lib/python3.9/site-packages (from requests>=2.19.0->pooch>=1.1->librosa) (3.4.1)\n",
            "Requirement already satisfied: idna<4,>=2.5 in /usr/lib/python3.9/site-packages (from requests>=2.19.0->pooch>=1.1->librosa) (2.10)\n",
            "Requirement already satisfied: urllib3<3,>=1.21.1 in /usr/lib/python3.9/site-packages (from requests>=2.19.0->pooch>=1.1->librosa) (1.26.5)\n",
            "Requirement already satisfied: ply==3.11 in /usr/lib/python3.9/site-packages (from pycparser->cffi>=1.0->soundfile>=0.12.1->librosa) (3.11)\n",
            "Installing collected packages: python-dotenv, proglog, imageio-ffmpeg, imageio, moviepy\n",
            "Successfully installed imageio-2.37.0 imageio-ffmpeg-0.6.0 moviepy-2.1.2 proglog-0.1.11 python-dotenv-1.1.0\n",
            "Note: you may need to restart the kernel to use updated packages.\n"
          ]
        }
      ],
      "source": [
        "pip install yt-dlp moviepy imageio-ffmpeg librosa opencv-python matplotlib"
      ]
    },
    {
      "cell_type": "code",
      "execution_count": 3,
      "metadata": {},
      "outputs": [
        {
          "name": "stdout",
          "output_type": "stream",
          "text": [
            "<class 'moviepy.video.io.VideoFileClip.VideoFileClip'>\n"
          ]
        }
      ],
      "source": [
        "from moviepy.video.io.VideoFileClip import VideoFileClip\n",
        "\n",
        "print(VideoFileClip)\n"
      ]
    },
    {
      "cell_type": "code",
      "execution_count": null,
      "metadata": {},
      "outputs": [],
      "source": []
    }
  ],
  "metadata": {
    "colab": {
      "provenance": []
    },
    "kernelspec": {
      "display_name": "Python 3",
      "language": "python",
      "name": "python3"
    },
    "language_info": {
      "codemirror_mode": {
        "name": "ipython",
        "version": 3
      },
      "file_extension": ".py",
      "mimetype": "text/x-python",
      "name": "python",
      "nbconvert_exporter": "python",
      "pygments_lexer": "ipython3",
      "version": "3.9.21"
    }
  },
  "nbformat": 4,
  "nbformat_minor": 0
}
