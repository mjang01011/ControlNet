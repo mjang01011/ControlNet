{
  "nbformat": 4,
  "nbformat_minor": 0,
  "metadata": {
    "colab": {
      "provenance": []
    },
    "kernelspec": {
      "name": "python3",
      "display_name": "Python 3"
    },
    "language_info": {
      "name": "python"
    }
  },
  "cells": [
    {
      "cell_type": "code",
      "source": [
        "# from google.colab import drive\n",
        "# import pandas as pd\n",
        "\n",
        "# drive.mount('/content/drive')\n",
        "\n",
        "# df = pd.read_csv('/content/drive/My Drive/CS590/vggsound.csv')\n",
        "\n",
        "# print(df.head())"
      ],
      "metadata": {
        "colab": {
          "base_uri": "https://localhost:8080/"
        },
        "id": "ZWMDINU893PU",
        "outputId": "b03ae86b-1e06-4c98-f21e-729617daded4"
      },
      "execution_count": null,
      "outputs": [
        {
          "output_type": "stream",
          "name": "stdout",
          "text": [
            "Mounted at /content/drive\n",
            "   ---g-f_I2yQ    1        people marching   test\n",
            "0  --0PQM4-hqg   30     waterfall burbling  train\n",
            "1  --56QUhyDQM  185         playing tennis  train\n",
            "2  --5OkAjCI7g   40  people belly laughing  train\n",
            "3  --8puiAGLhs   30    car engine starting  train\n",
            "4  --96EN9NUQM  242    alarm clock ringing  train\n"
          ]
        }
      ]
    },
    {
      "cell_type": "code",
      "execution_count": null,
      "metadata": {
        "colab": {
          "base_uri": "https://localhost:8080/"
        },
        "id": "WIvumkQE92PT",
        "outputId": "d0b333c6-edcb-448f-93df-284a1ceec9d8"
      },
      "outputs": [
        {
          "output_type": "stream",
          "name": "stdout",
          "text": [
            "Processing ---g-f_I2yQ...\n"
          ]
        },
        {
          "output_type": "stream",
          "name": "stderr",
          "text": [
            "<ipython-input-9-136a14e33e7e>:46: UserWarning: PySoundFile failed. Trying audioread instead.\n",
            "  y, _ = librosa.load(video_path, sr=sr)\n",
            "/usr/local/lib/python3.11/dist-packages/librosa/core/audio.py:184: FutureWarning: librosa.core.audio.__audioread_load\n",
            "\tDeprecated as of librosa version 0.10.0.\n",
            "\tIt will be removed in librosa version 1.0.\n",
            "  y, sr_native = __audioread_load(path, offset, duration, dtype)\n"
          ]
        },
        {
          "output_type": "stream",
          "name": "stdout",
          "text": [
            "✔️ Done: ---g-f_I2yQ\n",
            "Processing --0PQM4-hqg...\n"
          ]
        },
        {
          "output_type": "stream",
          "name": "stderr",
          "text": [
            "<ipython-input-9-136a14e33e7e>:46: UserWarning: PySoundFile failed. Trying audioread instead.\n",
            "  y, _ = librosa.load(video_path, sr=sr)\n",
            "/usr/local/lib/python3.11/dist-packages/librosa/core/audio.py:184: FutureWarning: librosa.core.audio.__audioread_load\n",
            "\tDeprecated as of librosa version 0.10.0.\n",
            "\tIt will be removed in librosa version 1.0.\n",
            "  y, sr_native = __audioread_load(path, offset, duration, dtype)\n"
          ]
        },
        {
          "output_type": "stream",
          "name": "stdout",
          "text": [
            "✔️ Done: --0PQM4-hqg\n",
            "Processing --56QUhyDQM...\n"
          ]
        },
        {
          "output_type": "stream",
          "name": "stderr",
          "text": [
            "<ipython-input-9-136a14e33e7e>:46: UserWarning: PySoundFile failed. Trying audioread instead.\n",
            "  y, _ = librosa.load(video_path, sr=sr)\n",
            "/usr/local/lib/python3.11/dist-packages/librosa/core/audio.py:184: FutureWarning: librosa.core.audio.__audioread_load\n",
            "\tDeprecated as of librosa version 0.10.0.\n",
            "\tIt will be removed in librosa version 1.0.\n",
            "  y, sr_native = __audioread_load(path, offset, duration, dtype)\n"
          ]
        },
        {
          "output_type": "stream",
          "name": "stdout",
          "text": [
            "✔️ Done: --56QUhyDQM\n",
            "Processing --5OkAjCI7g...\n",
            "❌ Frame extraction failed: --5OkAjCI7g\n",
            "Processing --8puiAGLhs...\n"
          ]
        },
        {
          "output_type": "stream",
          "name": "stderr",
          "text": [
            "<ipython-input-9-136a14e33e7e>:46: UserWarning: PySoundFile failed. Trying audioread instead.\n",
            "  y, _ = librosa.load(video_path, sr=sr)\n",
            "/usr/local/lib/python3.11/dist-packages/librosa/core/audio.py:184: FutureWarning: librosa.core.audio.__audioread_load\n",
            "\tDeprecated as of librosa version 0.10.0.\n",
            "\tIt will be removed in librosa version 1.0.\n",
            "  y, sr_native = __audioread_load(path, offset, duration, dtype)\n"
          ]
        },
        {
          "output_type": "stream",
          "name": "stdout",
          "text": [
            "✔️ Done: --8puiAGLhs\n",
            "Processing --96EN9NUQM...\n"
          ]
        },
        {
          "output_type": "stream",
          "name": "stderr",
          "text": [
            "<ipython-input-9-136a14e33e7e>:46: UserWarning: PySoundFile failed. Trying audioread instead.\n",
            "  y, _ = librosa.load(video_path, sr=sr)\n",
            "/usr/local/lib/python3.11/dist-packages/librosa/core/audio.py:184: FutureWarning: librosa.core.audio.__audioread_load\n",
            "\tDeprecated as of librosa version 0.10.0.\n",
            "\tIt will be removed in librosa version 1.0.\n",
            "  y, sr_native = __audioread_load(path, offset, duration, dtype)\n"
          ]
        },
        {
          "output_type": "stream",
          "name": "stdout",
          "text": [
            "✔️ Done: --96EN9NUQM\n",
            "Processing --9O4XZOge4...\n"
          ]
        },
        {
          "output_type": "stream",
          "name": "stderr",
          "text": [
            "<ipython-input-9-136a14e33e7e>:46: UserWarning: PySoundFile failed. Trying audioread instead.\n",
            "  y, _ = librosa.load(video_path, sr=sr)\n",
            "/usr/local/lib/python3.11/dist-packages/librosa/core/audio.py:184: FutureWarning: librosa.core.audio.__audioread_load\n",
            "\tDeprecated as of librosa version 0.10.0.\n",
            "\tIt will be removed in librosa version 1.0.\n",
            "  y, sr_native = __audioread_load(path, offset, duration, dtype)\n"
          ]
        },
        {
          "output_type": "stream",
          "name": "stdout",
          "text": [
            "✔️ Done: --9O4XZOge4\n",
            "Processing --Aa4M484QM...\n",
            "❌ Frame extraction failed: --Aa4M484QM\n",
            "Processing --Bu2xe4OSo...\n"
          ]
        },
        {
          "output_type": "stream",
          "name": "stderr",
          "text": [
            "<ipython-input-9-136a14e33e7e>:46: UserWarning: PySoundFile failed. Trying audioread instead.\n",
            "  y, _ = librosa.load(video_path, sr=sr)\n",
            "/usr/local/lib/python3.11/dist-packages/librosa/core/audio.py:184: FutureWarning: librosa.core.audio.__audioread_load\n",
            "\tDeprecated as of librosa version 0.10.0.\n",
            "\tIt will be removed in librosa version 1.0.\n",
            "  y, sr_native = __audioread_load(path, offset, duration, dtype)\n"
          ]
        },
        {
          "output_type": "stream",
          "name": "stdout",
          "text": [
            "✔️ Done: --Bu2xe4OSo\n",
            "Processing --CC5pH97q4...\n"
          ]
        },
        {
          "output_type": "stream",
          "name": "stderr",
          "text": [
            "<ipython-input-9-136a14e33e7e>:46: UserWarning: PySoundFile failed. Trying audioread instead.\n",
            "  y, _ = librosa.load(video_path, sr=sr)\n",
            "/usr/local/lib/python3.11/dist-packages/librosa/core/audio.py:184: FutureWarning: librosa.core.audio.__audioread_load\n",
            "\tDeprecated as of librosa version 0.10.0.\n",
            "\tIt will be removed in librosa version 1.0.\n",
            "  y, sr_native = __audioread_load(path, offset, duration, dtype)\n"
          ]
        },
        {
          "output_type": "stream",
          "name": "stdout",
          "text": [
            "✔️ Done: --CC5pH97q4\n"
          ]
        }
      ],
      "source": [
        "import os\n",
        "import csv\n",
        "import subprocess\n",
        "import librosa\n",
        "import matplotlib.pyplot as plt\n",
        "import numpy as np\n",
        "import cv2\n",
        "\n",
        "csv_file = \"/content/drive/My Drive/CS590/vggsound.csv\"\n",
        "output_dir = \"/content/drive/My Drive/CS590/dataset\"\n",
        "video_dir = os.path.join(output_dir, \"videos\")\n",
        "frame_dir = os.path.join(output_dir, \"images\")\n",
        "spec_dir = os.path.join(output_dir, \"specs\")\n",
        "duration = 10\n",
        "sample_count = 10\n",
        "sr = 22050\n",
        "img_size = 512\n",
        "\n",
        "os.makedirs(video_dir, exist_ok=True)\n",
        "os.makedirs(frame_dir, exist_ok=True)\n",
        "os.makedirs(spec_dir, exist_ok=True)\n",
        "\n",
        "def download_clip(youtube_id, start_time, duration=10):\n",
        "    url = f\"https://www.youtube.com/watch?v={youtube_id}\"\n",
        "    out_path = os.path.join(video_dir, f\"{youtube_id}.mp4\")\n",
        "    cmd = f'yt-dlp --quiet --no-warnings --download-sections \"*{start_time}-{start_time+duration}\" -f mp4 -o \"{out_path}\" {url}'\n",
        "    subprocess.run(cmd, shell=True)\n",
        "    return out_path\n",
        "\n",
        "def extract_middle_frame(video_path, out_path):\n",
        "    cap = cv2.VideoCapture(video_path)\n",
        "    total = int(cap.get(cv2.CAP_PROP_FRAME_COUNT))\n",
        "    cap.set(cv2.CAP_PROP_POS_FRAMES, total // 2)\n",
        "    success, frame = cap.read()\n",
        "    if success:\n",
        "        frame = cv2.resize(frame, (img_size, img_size))\n",
        "        cv2.imwrite(out_path, frame)\n",
        "    cap.release()\n",
        "    return success\n",
        "\n",
        "def save_mel_spectrogram(video_path, out_path):\n",
        "    y, _ = librosa.load(video_path, sr=sr)\n",
        "    mel = librosa.feature.melspectrogram(y=y, sr=sr, n_mels=128)\n",
        "    log_mel = librosa.power_to_db(mel, ref=np.max)\n",
        "\n",
        "    fig = plt.figure(figsize=(5.12, 5.12), dpi=100)\n",
        "    plt.axis('off')\n",
        "    plt.imshow(log_mel, cmap='magma', aspect='auto')\n",
        "    plt.savefig(out_path, bbox_inches='tight', pad_inches=0)\n",
        "    plt.close(fig)\n",
        "\n",
        "with open(csv_file) as f:\n",
        "    reader = csv.reader(f)\n",
        "    for i, row in enumerate(reader):\n",
        "        if i >= sample_count:\n",
        "            break\n",
        "\n",
        "        try:\n",
        "            ytid = row[0]\n",
        "            start = int(float(row[1]))\n",
        "            label = row[2] if len(row) > 2 else \"unknown\"\n",
        "\n",
        "            print(f\"Processing {ytid}...\")\n",
        "\n",
        "            video_path = download_clip(ytid, start)\n",
        "            frame_path = os.path.join(frame_dir, f\"{ytid}.jpg\")\n",
        "            spec_path = os.path.join(spec_dir, f\"{ytid}.png\")\n",
        "\n",
        "            success = extract_middle_frame(video_path, frame_path)\n",
        "            if success:\n",
        "                save_mel_spectrogram(video_path, spec_path)\n",
        "                os.remove(video_path)\n",
        "                print(f\"Done: {ytid}\")\n",
        "            else:\n",
        "                print(f\"Frame extraction failed: {ytid}\")\n",
        "        except Exception as e:\n",
        "            print(f\"Error processing row {i}: {e}\")\n",
        "            continue"
      ]
    },
    {
      "cell_type": "code",
      "source": [
        "# !pip install -U yt-dlp\n",
        "# !apt-get install -y ffmpeg\n",
        "!pip install soundfile"
      ],
      "metadata": {
        "colab": {
          "base_uri": "https://localhost:8080/"
        },
        "id": "dadO_rwZ-PpD",
        "outputId": "f0b3fe02-87f2-4ba3-a237-b9f1467c923b"
      },
      "execution_count": null,
      "outputs": [
        {
          "output_type": "stream",
          "name": "stdout",
          "text": [
            "Requirement already satisfied: soundfile in /usr/local/lib/python3.11/dist-packages (0.13.1)\n",
            "Requirement already satisfied: cffi>=1.0 in /usr/local/lib/python3.11/dist-packages (from soundfile) (1.17.1)\n",
            "Requirement already satisfied: numpy in /usr/local/lib/python3.11/dist-packages (from soundfile) (2.0.2)\n",
            "Requirement already satisfied: pycparser in /usr/local/lib/python3.11/dist-packages (from cffi>=1.0->soundfile) (2.22)\n"
          ]
        }
      ]
    },
    {
      "cell_type": "code",
      "source": [],
      "metadata": {
        "id": "rqmwky1wAJX_"
      },
      "execution_count": null,
      "outputs": []
    }
  ]
}